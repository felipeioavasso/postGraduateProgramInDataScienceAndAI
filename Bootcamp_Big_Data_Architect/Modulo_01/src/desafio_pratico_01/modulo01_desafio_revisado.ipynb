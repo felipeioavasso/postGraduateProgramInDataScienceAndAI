{
 "cells": [
  {
   "cell_type": "markdown",
   "metadata": {},
   "source": [
    "# Desafio prático do módulo 01 do Bootcamp de Arquiteto de Big Data"
   ]
  },
  {
   "cell_type": "markdown",
   "metadata": {},
   "source": [
    "### Importando bibliotecas"
   ]
  },
  {
   "cell_type": "code",
   "execution_count": 1,
   "metadata": {},
   "outputs": [],
   "source": [
    "# Importando bibliotecas essenciais para manipulação e análise de dados\n",
    "import pandas as pd\n",
    "import numpy as np\n",
    "\n",
    "# Importando bibliotecas para visualização de dados\n",
    "import matplotlib.pyplot as plt\n",
    "import seaborn as sns\n",
    "import plotly.express as px  # Gráficos dinâmicos\n",
    "import plotly.offline as py\n",
    "import plotly.graph_objects as go  # Criar e concatenar gráficos\n",
    "\n",
    "# Importando bibliotecas para pré-processamento e machine learning\n",
    "from sklearn.preprocessing import LabelEncoder\n",
    "from sklearn.cluster import KMeans"
   ]
  },
  {
   "cell_type": "markdown",
   "metadata": {},
   "source": [
    "### Funções de Carregamento e Verificação"
   ]
  },
  {
   "cell_type": "markdown",
   "metadata": {},
   "source": [
    "#### Estados"
   ]
  },
  {
   "cell_type": "code",
   "execution_count": 2,
   "metadata": {},
   "outputs": [
    {
     "name": "stdout",
     "output_type": "stream",
     "text": [
      "Arquivo carregado com sucesso!\n"
     ]
    }
   ],
   "source": [
    "try:\n",
    "    estados = pd.read_csv('estado_regiao.csv', sep=';', encoding='latin-1')\n",
    "    print('Arquivo carregado com sucesso!')\n",
    "except FileNotFoundError:\n",
    "    print('Arquivo não encontrado!')\n",
    "except Exception as e:\n",
    "    print(f'Ocorreu um erro: {e}')"
   ]
  },
  {
   "cell_type": "markdown",
   "metadata": {},
   "source": [
    "#### Pacientes"
   ]
  },
  {
   "cell_type": "code",
   "execution_count": 3,
   "metadata": {},
   "outputs": [
    {
     "name": "stdout",
     "output_type": "stream",
     "text": [
      "Arquivo carregado com sucesso!\n"
     ]
    }
   ],
   "source": [
    "try:\n",
    "    pacientes = pd.read_csv('dados_pacientes.csv', sep=';')\n",
    "    print('Arquivo carregado com sucesso!')\n",
    "except FileNotFoundError:\n",
    "    print('Arquivo não encontrado!')\n",
    "except Exception as e:\n",
    "    print(f'Ocorreu um erro: {e}')"
   ]
  },
  {
   "cell_type": "markdown",
   "metadata": {},
   "source": [
    "#### Dados clínicos"
   ]
  },
  {
   "cell_type": "code",
   "execution_count": 4,
   "metadata": {},
   "outputs": [
    {
     "name": "stdout",
     "output_type": "stream",
     "text": [
      "Arquivo carregado com sucesso!\n"
     ]
    }
   ],
   "source": [
    "try:\n",
    "    clinica = pd.read_csv('dados_clinicos.csv', sep=';')\n",
    "    print('Arquivo carregado com sucesso!')\n",
    "except FileNotFoundError:\n",
    "    print('Arquivo não encontrado!')\n",
    "except Exception as e:\n",
    "    print(f'Ocorreu um erro: {e}')"
   ]
  },
  {
   "cell_type": "markdown",
   "metadata": {},
   "source": [
    "### Explorando o dataset"
   ]
  },
  {
   "cell_type": "markdown",
   "metadata": {},
   "source": [
    "#### <span style=\"font-size:20px; color:#00FFFF; font-weight:bold;\">Estados</span>\n",
    "\n"
   ]
  },
  {
   "cell_type": "code",
   "execution_count": 5,
   "metadata": {},
   "outputs": [
    {
     "data": {
      "text/html": [
       "<div>\n",
       "<style scoped>\n",
       "    .dataframe tbody tr th:only-of-type {\n",
       "        vertical-align: middle;\n",
       "    }\n",
       "\n",
       "    .dataframe tbody tr th {\n",
       "        vertical-align: top;\n",
       "    }\n",
       "\n",
       "    .dataframe thead th {\n",
       "        text-align: right;\n",
       "    }\n",
       "</style>\n",
       "<table border=\"1\" class=\"dataframe\">\n",
       "  <thead>\n",
       "    <tr style=\"text-align: right;\">\n",
       "      <th></th>\n",
       "      <th>id_estado</th>\n",
       "      <th>sigla</th>\n",
       "      <th>estado</th>\n",
       "      <th>regiao</th>\n",
       "      <th>pais</th>\n",
       "    </tr>\n",
       "  </thead>\n",
       "  <tbody>\n",
       "    <tr>\n",
       "      <th>0</th>\n",
       "      <td>1</td>\n",
       "      <td>AC</td>\n",
       "      <td>Acre</td>\n",
       "      <td>Norte</td>\n",
       "      <td>Brasil</td>\n",
       "    </tr>\n",
       "    <tr>\n",
       "      <th>1</th>\n",
       "      <td>2</td>\n",
       "      <td>AL</td>\n",
       "      <td>Alagoas</td>\n",
       "      <td>Nordeste</td>\n",
       "      <td>Brasil</td>\n",
       "    </tr>\n",
       "    <tr>\n",
       "      <th>2</th>\n",
       "      <td>3</td>\n",
       "      <td>AP</td>\n",
       "      <td>Amapá</td>\n",
       "      <td>Norte</td>\n",
       "      <td>Brasil</td>\n",
       "    </tr>\n",
       "    <tr>\n",
       "      <th>3</th>\n",
       "      <td>4</td>\n",
       "      <td>AM</td>\n",
       "      <td>Amazonas</td>\n",
       "      <td>Norte</td>\n",
       "      <td>Brasil</td>\n",
       "    </tr>\n",
       "    <tr>\n",
       "      <th>4</th>\n",
       "      <td>5</td>\n",
       "      <td>BA</td>\n",
       "      <td>Bahia</td>\n",
       "      <td>Nordeste</td>\n",
       "      <td>Brasil</td>\n",
       "    </tr>\n",
       "  </tbody>\n",
       "</table>\n",
       "</div>"
      ],
      "text/plain": [
       "   id_estado sigla    estado    regiao    pais\n",
       "0          1    AC      Acre     Norte  Brasil\n",
       "1          2    AL   Alagoas  Nordeste  Brasil\n",
       "2          3    AP     Amapá     Norte  Brasil\n",
       "3          4    AM  Amazonas     Norte  Brasil\n",
       "4          5    BA     Bahia  Nordeste  Brasil"
      ]
     },
     "execution_count": 5,
     "metadata": {},
     "output_type": "execute_result"
    }
   ],
   "source": [
    "estados.head()"
   ]
  },
  {
   "cell_type": "code",
   "execution_count": 6,
   "metadata": {},
   "outputs": [
    {
     "data": {
      "text/html": [
       "<div>\n",
       "<style scoped>\n",
       "    .dataframe tbody tr th:only-of-type {\n",
       "        vertical-align: middle;\n",
       "    }\n",
       "\n",
       "    .dataframe tbody tr th {\n",
       "        vertical-align: top;\n",
       "    }\n",
       "\n",
       "    .dataframe thead th {\n",
       "        text-align: right;\n",
       "    }\n",
       "</style>\n",
       "<table border=\"1\" class=\"dataframe\">\n",
       "  <thead>\n",
       "    <tr style=\"text-align: right;\">\n",
       "      <th></th>\n",
       "      <th>id_estado</th>\n",
       "    </tr>\n",
       "  </thead>\n",
       "  <tbody>\n",
       "    <tr>\n",
       "      <th>count</th>\n",
       "      <td>27.000000</td>\n",
       "    </tr>\n",
       "    <tr>\n",
       "      <th>mean</th>\n",
       "      <td>14.000000</td>\n",
       "    </tr>\n",
       "    <tr>\n",
       "      <th>std</th>\n",
       "      <td>7.937254</td>\n",
       "    </tr>\n",
       "    <tr>\n",
       "      <th>min</th>\n",
       "      <td>1.000000</td>\n",
       "    </tr>\n",
       "    <tr>\n",
       "      <th>25%</th>\n",
       "      <td>7.500000</td>\n",
       "    </tr>\n",
       "    <tr>\n",
       "      <th>50%</th>\n",
       "      <td>14.000000</td>\n",
       "    </tr>\n",
       "    <tr>\n",
       "      <th>75%</th>\n",
       "      <td>20.500000</td>\n",
       "    </tr>\n",
       "    <tr>\n",
       "      <th>max</th>\n",
       "      <td>27.000000</td>\n",
       "    </tr>\n",
       "  </tbody>\n",
       "</table>\n",
       "</div>"
      ],
      "text/plain": [
       "       id_estado\n",
       "count  27.000000\n",
       "mean   14.000000\n",
       "std     7.937254\n",
       "min     1.000000\n",
       "25%     7.500000\n",
       "50%    14.000000\n",
       "75%    20.500000\n",
       "max    27.000000"
      ]
     },
     "execution_count": 6,
     "metadata": {},
     "output_type": "execute_result"
    }
   ],
   "source": [
    "estados.describe()"
   ]
  },
  {
   "cell_type": "code",
   "execution_count": 7,
   "metadata": {},
   "outputs": [
    {
     "name": "stdout",
     "output_type": "stream",
     "text": [
      "<class 'pandas.core.frame.DataFrame'>\n",
      "RangeIndex: 27 entries, 0 to 26\n",
      "Data columns (total 5 columns):\n",
      " #   Column     Non-Null Count  Dtype \n",
      "---  ------     --------------  ----- \n",
      " 0   id_estado  27 non-null     int64 \n",
      " 1   sigla      27 non-null     object\n",
      " 2   estado     27 non-null     object\n",
      " 3   regiao     27 non-null     object\n",
      " 4   pais       27 non-null     object\n",
      "dtypes: int64(1), object(4)\n",
      "memory usage: 1.2+ KB\n"
     ]
    }
   ],
   "source": [
    "estados.info()"
   ]
  },
  {
   "cell_type": "code",
   "execution_count": 8,
   "metadata": {},
   "outputs": [
    {
     "data": {
      "text/plain": [
       "id_estado    0\n",
       "sigla        0\n",
       "estado       0\n",
       "regiao       0\n",
       "pais         0\n",
       "dtype: int64"
      ]
     },
     "execution_count": 8,
     "metadata": {},
     "output_type": "execute_result"
    }
   ],
   "source": [
    "estados.isna().sum()"
   ]
  },
  {
   "cell_type": "markdown",
   "metadata": {},
   "source": [
    "#### <span style=\"font-size:20px; color:#00FFFF; font-weight:bold;\">Pacientes</span>\n"
   ]
  },
  {
   "cell_type": "code",
   "execution_count": 9,
   "metadata": {},
   "outputs": [
    {
     "data": {
      "text/html": [
       "<div>\n",
       "<style scoped>\n",
       "    .dataframe tbody tr th:only-of-type {\n",
       "        vertical-align: middle;\n",
       "    }\n",
       "\n",
       "    .dataframe tbody tr th {\n",
       "        vertical-align: top;\n",
       "    }\n",
       "\n",
       "    .dataframe thead th {\n",
       "        text-align: right;\n",
       "    }\n",
       "</style>\n",
       "<table border=\"1\" class=\"dataframe\">\n",
       "  <thead>\n",
       "    <tr style=\"text-align: right;\">\n",
       "      <th></th>\n",
       "      <th>id_cliente</th>\n",
       "      <th>idade</th>\n",
       "      <th>classe_trabalho</th>\n",
       "      <th>escolaridade</th>\n",
       "      <th>id_estado</th>\n",
       "      <th>estado_civil</th>\n",
       "      <th>raca</th>\n",
       "      <th>qtde_filhos</th>\n",
       "      <th>salario</th>\n",
       "    </tr>\n",
       "  </thead>\n",
       "  <tbody>\n",
       "    <tr>\n",
       "      <th>0</th>\n",
       "      <td>1</td>\n",
       "      <td>39</td>\n",
       "      <td>Servidor Público</td>\n",
       "      <td>Ensino Médio Completo</td>\n",
       "      <td>2</td>\n",
       "      <td>Solteiro</td>\n",
       "      <td>Branco</td>\n",
       "      <td>2.0</td>\n",
       "      <td>4754</td>\n",
       "    </tr>\n",
       "    <tr>\n",
       "      <th>1</th>\n",
       "      <td>2</td>\n",
       "      <td>50</td>\n",
       "      <td>Autônomo</td>\n",
       "      <td>Superior Incompleto</td>\n",
       "      <td>24</td>\n",
       "      <td>Casado</td>\n",
       "      <td>Branco</td>\n",
       "      <td>1.0</td>\n",
       "      <td>3923</td>\n",
       "    </tr>\n",
       "    <tr>\n",
       "      <th>2</th>\n",
       "      <td>3</td>\n",
       "      <td>38</td>\n",
       "      <td>Funcionário Setor Privado</td>\n",
       "      <td>Ensino Médio Incompleto</td>\n",
       "      <td>4</td>\n",
       "      <td>Divorciado</td>\n",
       "      <td>Branco</td>\n",
       "      <td>0.0</td>\n",
       "      <td>1100</td>\n",
       "    </tr>\n",
       "    <tr>\n",
       "      <th>3</th>\n",
       "      <td>4</td>\n",
       "      <td>53</td>\n",
       "      <td>Funcionário Setor Privado</td>\n",
       "      <td>Ensino Médio Incompleto</td>\n",
       "      <td>24</td>\n",
       "      <td>Casado</td>\n",
       "      <td>Negro</td>\n",
       "      <td>1.0</td>\n",
       "      <td>1100</td>\n",
       "    </tr>\n",
       "    <tr>\n",
       "      <th>4</th>\n",
       "      <td>5</td>\n",
       "      <td>28</td>\n",
       "      <td>Funcionário Setor Privado</td>\n",
       "      <td>Ensino Médio Completo</td>\n",
       "      <td>15</td>\n",
       "      <td>Casado</td>\n",
       "      <td>Negro</td>\n",
       "      <td>0.0</td>\n",
       "      <td>3430</td>\n",
       "    </tr>\n",
       "  </tbody>\n",
       "</table>\n",
       "</div>"
      ],
      "text/plain": [
       "   id_cliente  idade            classe_trabalho             escolaridade  \\\n",
       "0           1     39           Servidor Público    Ensino Médio Completo   \n",
       "1           2     50                   Autônomo      Superior Incompleto   \n",
       "2           3     38  Funcionário Setor Privado  Ensino Médio Incompleto   \n",
       "3           4     53  Funcionário Setor Privado  Ensino Médio Incompleto   \n",
       "4           5     28  Funcionário Setor Privado    Ensino Médio Completo   \n",
       "\n",
       "   id_estado estado_civil    raca  qtde_filhos  salario  \n",
       "0          2     Solteiro  Branco          2.0     4754  \n",
       "1         24       Casado  Branco          1.0     3923  \n",
       "2          4   Divorciado  Branco          0.0     1100  \n",
       "3         24       Casado   Negro          1.0     1100  \n",
       "4         15       Casado   Negro          0.0     3430  "
      ]
     },
     "execution_count": 9,
     "metadata": {},
     "output_type": "execute_result"
    }
   ],
   "source": [
    "pacientes.head()"
   ]
  },
  {
   "cell_type": "code",
   "execution_count": 10,
   "metadata": {},
   "outputs": [
    {
     "data": {
      "text/html": [
       "<div>\n",
       "<style scoped>\n",
       "    .dataframe tbody tr th:only-of-type {\n",
       "        vertical-align: middle;\n",
       "    }\n",
       "\n",
       "    .dataframe tbody tr th {\n",
       "        vertical-align: top;\n",
       "    }\n",
       "\n",
       "    .dataframe thead th {\n",
       "        text-align: right;\n",
       "    }\n",
       "</style>\n",
       "<table border=\"1\" class=\"dataframe\">\n",
       "  <thead>\n",
       "    <tr style=\"text-align: right;\">\n",
       "      <th></th>\n",
       "      <th>id_cliente</th>\n",
       "      <th>idade</th>\n",
       "      <th>id_estado</th>\n",
       "      <th>qtde_filhos</th>\n",
       "      <th>salario</th>\n",
       "    </tr>\n",
       "  </thead>\n",
       "  <tbody>\n",
       "    <tr>\n",
       "      <th>count</th>\n",
       "      <td>7999.000000</td>\n",
       "      <td>7999.000000</td>\n",
       "      <td>7999.000000</td>\n",
       "      <td>7989.000000</td>\n",
       "      <td>7999.000000</td>\n",
       "    </tr>\n",
       "    <tr>\n",
       "      <th>mean</th>\n",
       "      <td>4000.000000</td>\n",
       "      <td>38.477060</td>\n",
       "      <td>14.094012</td>\n",
       "      <td>2.405432</td>\n",
       "      <td>3169.312664</td>\n",
       "    </tr>\n",
       "    <tr>\n",
       "      <th>std</th>\n",
       "      <td>2309.256735</td>\n",
       "      <td>13.568667</td>\n",
       "      <td>7.821634</td>\n",
       "      <td>1.703916</td>\n",
       "      <td>3055.862493</td>\n",
       "    </tr>\n",
       "    <tr>\n",
       "      <th>min</th>\n",
       "      <td>1.000000</td>\n",
       "      <td>17.000000</td>\n",
       "      <td>1.000000</td>\n",
       "      <td>0.000000</td>\n",
       "      <td>0.000000</td>\n",
       "    </tr>\n",
       "    <tr>\n",
       "      <th>25%</th>\n",
       "      <td>2000.500000</td>\n",
       "      <td>28.000000</td>\n",
       "      <td>7.000000</td>\n",
       "      <td>1.000000</td>\n",
       "      <td>1100.000000</td>\n",
       "    </tr>\n",
       "    <tr>\n",
       "      <th>50%</th>\n",
       "      <td>4000.000000</td>\n",
       "      <td>37.000000</td>\n",
       "      <td>14.000000</td>\n",
       "      <td>2.000000</td>\n",
       "      <td>2410.000000</td>\n",
       "    </tr>\n",
       "    <tr>\n",
       "      <th>75%</th>\n",
       "      <td>5999.500000</td>\n",
       "      <td>47.000000</td>\n",
       "      <td>21.000000</td>\n",
       "      <td>4.000000</td>\n",
       "      <td>3640.500000</td>\n",
       "    </tr>\n",
       "    <tr>\n",
       "      <th>max</th>\n",
       "      <td>7999.000000</td>\n",
       "      <td>90.000000</td>\n",
       "      <td>27.000000</td>\n",
       "      <td>5.000000</td>\n",
       "      <td>19994.000000</td>\n",
       "    </tr>\n",
       "  </tbody>\n",
       "</table>\n",
       "</div>"
      ],
      "text/plain": [
       "        id_cliente        idade    id_estado  qtde_filhos       salario\n",
       "count  7999.000000  7999.000000  7999.000000  7989.000000   7999.000000\n",
       "mean   4000.000000    38.477060    14.094012     2.405432   3169.312664\n",
       "std    2309.256735    13.568667     7.821634     1.703916   3055.862493\n",
       "min       1.000000    17.000000     1.000000     0.000000      0.000000\n",
       "25%    2000.500000    28.000000     7.000000     1.000000   1100.000000\n",
       "50%    4000.000000    37.000000    14.000000     2.000000   2410.000000\n",
       "75%    5999.500000    47.000000    21.000000     4.000000   3640.500000\n",
       "max    7999.000000    90.000000    27.000000     5.000000  19994.000000"
      ]
     },
     "execution_count": 10,
     "metadata": {},
     "output_type": "execute_result"
    }
   ],
   "source": [
    "pacientes.describe()"
   ]
  },
  {
   "cell_type": "code",
   "execution_count": 11,
   "metadata": {},
   "outputs": [
    {
     "name": "stdout",
     "output_type": "stream",
     "text": [
      "<class 'pandas.core.frame.DataFrame'>\n",
      "RangeIndex: 7999 entries, 0 to 7998\n",
      "Data columns (total 9 columns):\n",
      " #   Column           Non-Null Count  Dtype  \n",
      "---  ------           --------------  -----  \n",
      " 0   id_cliente       7999 non-null   int64  \n",
      " 1   idade            7999 non-null   int64  \n",
      " 2   classe_trabalho  7612 non-null   object \n",
      " 3   escolaridade     7999 non-null   object \n",
      " 4   id_estado        7999 non-null   int64  \n",
      " 5   estado_civil     7999 non-null   object \n",
      " 6   raca             7999 non-null   object \n",
      " 7   qtde_filhos      7989 non-null   float64\n",
      " 8   salario          7999 non-null   int64  \n",
      "dtypes: float64(1), int64(4), object(4)\n",
      "memory usage: 562.6+ KB\n"
     ]
    }
   ],
   "source": [
    "pacientes.info()"
   ]
  },
  {
   "cell_type": "code",
   "execution_count": 12,
   "metadata": {},
   "outputs": [
    {
     "data": {
      "text/plain": [
       "id_cliente           0\n",
       "idade                0\n",
       "classe_trabalho    387\n",
       "escolaridade         0\n",
       "id_estado            0\n",
       "estado_civil         0\n",
       "raca                 0\n",
       "qtde_filhos         10\n",
       "salario              0\n",
       "dtype: int64"
      ]
     },
     "execution_count": 12,
     "metadata": {},
     "output_type": "execute_result"
    }
   ],
   "source": [
    "pacientes.isna().sum()"
   ]
  },
  {
   "cell_type": "markdown",
   "metadata": {},
   "source": [
    "#### <span style=\"font-size:20px; color:#00FFFF; font-weight:bold;\">Dados Clínicos</span>\n"
   ]
  },
  {
   "cell_type": "code",
   "execution_count": 13,
   "metadata": {},
   "outputs": [
    {
     "data": {
      "text/html": [
       "<div>\n",
       "<style scoped>\n",
       "    .dataframe tbody tr th:only-of-type {\n",
       "        vertical-align: middle;\n",
       "    }\n",
       "\n",
       "    .dataframe tbody tr th {\n",
       "        vertical-align: top;\n",
       "    }\n",
       "\n",
       "    .dataframe thead th {\n",
       "        text-align: right;\n",
       "    }\n",
       "</style>\n",
       "<table border=\"1\" class=\"dataframe\">\n",
       "  <thead>\n",
       "    <tr style=\"text-align: right;\">\n",
       "      <th></th>\n",
       "      <th>id_cliente</th>\n",
       "      <th>peso</th>\n",
       "      <th>colesterol</th>\n",
       "      <th>genero</th>\n",
       "    </tr>\n",
       "  </thead>\n",
       "  <tbody>\n",
       "    <tr>\n",
       "      <th>0</th>\n",
       "      <td>1</td>\n",
       "      <td>102.0</td>\n",
       "      <td>111</td>\n",
       "      <td>Masculino</td>\n",
       "    </tr>\n",
       "    <tr>\n",
       "      <th>1</th>\n",
       "      <td>2</td>\n",
       "      <td>115.0</td>\n",
       "      <td>135</td>\n",
       "      <td>Masculino</td>\n",
       "    </tr>\n",
       "    <tr>\n",
       "      <th>2</th>\n",
       "      <td>3</td>\n",
       "      <td>115.0</td>\n",
       "      <td>136</td>\n",
       "      <td>Masculino</td>\n",
       "    </tr>\n",
       "    <tr>\n",
       "      <th>3</th>\n",
       "      <td>4</td>\n",
       "      <td>140.0</td>\n",
       "      <td>167</td>\n",
       "      <td>Feminino</td>\n",
       "    </tr>\n",
       "    <tr>\n",
       "      <th>4</th>\n",
       "      <td>5</td>\n",
       "      <td>130.0</td>\n",
       "      <td>158</td>\n",
       "      <td>Masculino</td>\n",
       "    </tr>\n",
       "  </tbody>\n",
       "</table>\n",
       "</div>"
      ],
      "text/plain": [
       "   id_cliente   peso  colesterol     genero\n",
       "0           1  102.0         111  Masculino\n",
       "1           2  115.0         135  Masculino\n",
       "2           3  115.0         136  Masculino\n",
       "3           4  140.0         167   Feminino\n",
       "4           5  130.0         158  Masculino"
      ]
     },
     "execution_count": 13,
     "metadata": {},
     "output_type": "execute_result"
    }
   ],
   "source": [
    "clinica.head()"
   ]
  },
  {
   "cell_type": "code",
   "execution_count": 14,
   "metadata": {},
   "outputs": [
    {
     "data": {
      "text/html": [
       "<div>\n",
       "<style scoped>\n",
       "    .dataframe tbody tr th:only-of-type {\n",
       "        vertical-align: middle;\n",
       "    }\n",
       "\n",
       "    .dataframe tbody tr th {\n",
       "        vertical-align: top;\n",
       "    }\n",
       "\n",
       "    .dataframe thead th {\n",
       "        text-align: right;\n",
       "    }\n",
       "</style>\n",
       "<table border=\"1\" class=\"dataframe\">\n",
       "  <thead>\n",
       "    <tr style=\"text-align: right;\">\n",
       "      <th></th>\n",
       "      <th>id_cliente</th>\n",
       "      <th>peso</th>\n",
       "      <th>colesterol</th>\n",
       "    </tr>\n",
       "  </thead>\n",
       "  <tbody>\n",
       "    <tr>\n",
       "      <th>count</th>\n",
       "      <td>590.000000</td>\n",
       "      <td>585.000000</td>\n",
       "      <td>590.000000</td>\n",
       "    </tr>\n",
       "    <tr>\n",
       "      <th>mean</th>\n",
       "      <td>283.696610</td>\n",
       "      <td>143.158974</td>\n",
       "      <td>170.067797</td>\n",
       "    </tr>\n",
       "    <tr>\n",
       "      <th>std</th>\n",
       "      <td>156.464182</td>\n",
       "      <td>30.925402</td>\n",
       "      <td>39.325409</td>\n",
       "    </tr>\n",
       "    <tr>\n",
       "      <th>min</th>\n",
       "      <td>1.000000</td>\n",
       "      <td>95.000000</td>\n",
       "      <td>102.000000</td>\n",
       "    </tr>\n",
       "    <tr>\n",
       "      <th>25%</th>\n",
       "      <td>148.250000</td>\n",
       "      <td>116.000000</td>\n",
       "      <td>135.250000</td>\n",
       "    </tr>\n",
       "    <tr>\n",
       "      <th>50%</th>\n",
       "      <td>295.500000</td>\n",
       "      <td>140.000000</td>\n",
       "      <td>169.000000</td>\n",
       "    </tr>\n",
       "    <tr>\n",
       "      <th>75%</th>\n",
       "      <td>424.750000</td>\n",
       "      <td>171.000000</td>\n",
       "      <td>207.750000</td>\n",
       "    </tr>\n",
       "    <tr>\n",
       "      <th>max</th>\n",
       "      <td>547.000000</td>\n",
       "      <td>203.000000</td>\n",
       "      <td>235.000000</td>\n",
       "    </tr>\n",
       "  </tbody>\n",
       "</table>\n",
       "</div>"
      ],
      "text/plain": [
       "       id_cliente        peso  colesterol\n",
       "count  590.000000  585.000000  590.000000\n",
       "mean   283.696610  143.158974  170.067797\n",
       "std    156.464182   30.925402   39.325409\n",
       "min      1.000000   95.000000  102.000000\n",
       "25%    148.250000  116.000000  135.250000\n",
       "50%    295.500000  140.000000  169.000000\n",
       "75%    424.750000  171.000000  207.750000\n",
       "max    547.000000  203.000000  235.000000"
      ]
     },
     "execution_count": 14,
     "metadata": {},
     "output_type": "execute_result"
    }
   ],
   "source": [
    "clinica.describe()"
   ]
  },
  {
   "cell_type": "code",
   "execution_count": 15,
   "metadata": {},
   "outputs": [
    {
     "name": "stdout",
     "output_type": "stream",
     "text": [
      "<class 'pandas.core.frame.DataFrame'>\n",
      "RangeIndex: 590 entries, 0 to 589\n",
      "Data columns (total 4 columns):\n",
      " #   Column      Non-Null Count  Dtype  \n",
      "---  ------      --------------  -----  \n",
      " 0   id_cliente  590 non-null    int64  \n",
      " 1   peso        585 non-null    float64\n",
      " 2   colesterol  590 non-null    int64  \n",
      " 3   genero      590 non-null    object \n",
      "dtypes: float64(1), int64(2), object(1)\n",
      "memory usage: 18.6+ KB\n"
     ]
    }
   ],
   "source": [
    "clinica.info()"
   ]
  },
  {
   "cell_type": "code",
   "execution_count": 16,
   "metadata": {},
   "outputs": [
    {
     "data": {
      "text/plain": [
       "id_cliente    0\n",
       "peso          5\n",
       "colesterol    0\n",
       "genero        0\n",
       "dtype: int64"
      ]
     },
     "execution_count": 16,
     "metadata": {},
     "output_type": "execute_result"
    }
   ],
   "source": [
    "clinica.isna().sum()"
   ]
  },
  {
   "cell_type": "markdown",
   "metadata": {},
   "source": [
    "### Tratamento dos dados"
   ]
  },
  {
   "cell_type": "markdown",
   "metadata": {},
   "source": [
    "#### <span style=\"font-size:20px; color:#00FFFF; font-weight:bold;\">Dados Clínicos</span>"
   ]
  },
  {
   "cell_type": "markdown",
   "metadata": {},
   "source": [
    "##### Head()"
   ]
  },
  {
   "cell_type": "code",
   "execution_count": 17,
   "metadata": {},
   "outputs": [
    {
     "data": {
      "text/html": [
       "<div>\n",
       "<style scoped>\n",
       "    .dataframe tbody tr th:only-of-type {\n",
       "        vertical-align: middle;\n",
       "    }\n",
       "\n",
       "    .dataframe tbody tr th {\n",
       "        vertical-align: top;\n",
       "    }\n",
       "\n",
       "    .dataframe thead th {\n",
       "        text-align: right;\n",
       "    }\n",
       "</style>\n",
       "<table border=\"1\" class=\"dataframe\">\n",
       "  <thead>\n",
       "    <tr style=\"text-align: right;\">\n",
       "      <th></th>\n",
       "      <th>id_cliente</th>\n",
       "      <th>peso</th>\n",
       "      <th>colesterol</th>\n",
       "      <th>genero</th>\n",
       "    </tr>\n",
       "  </thead>\n",
       "  <tbody>\n",
       "    <tr>\n",
       "      <th>0</th>\n",
       "      <td>1</td>\n",
       "      <td>102.0</td>\n",
       "      <td>111</td>\n",
       "      <td>Masculino</td>\n",
       "    </tr>\n",
       "    <tr>\n",
       "      <th>1</th>\n",
       "      <td>2</td>\n",
       "      <td>115.0</td>\n",
       "      <td>135</td>\n",
       "      <td>Masculino</td>\n",
       "    </tr>\n",
       "    <tr>\n",
       "      <th>2</th>\n",
       "      <td>3</td>\n",
       "      <td>115.0</td>\n",
       "      <td>136</td>\n",
       "      <td>Masculino</td>\n",
       "    </tr>\n",
       "    <tr>\n",
       "      <th>3</th>\n",
       "      <td>4</td>\n",
       "      <td>140.0</td>\n",
       "      <td>167</td>\n",
       "      <td>Feminino</td>\n",
       "    </tr>\n",
       "    <tr>\n",
       "      <th>4</th>\n",
       "      <td>5</td>\n",
       "      <td>130.0</td>\n",
       "      <td>158</td>\n",
       "      <td>Masculino</td>\n",
       "    </tr>\n",
       "  </tbody>\n",
       "</table>\n",
       "</div>"
      ],
      "text/plain": [
       "   id_cliente   peso  colesterol     genero\n",
       "0           1  102.0         111  Masculino\n",
       "1           2  115.0         135  Masculino\n",
       "2           3  115.0         136  Masculino\n",
       "3           4  140.0         167   Feminino\n",
       "4           5  130.0         158  Masculino"
      ]
     },
     "execution_count": 17,
     "metadata": {},
     "output_type": "execute_result"
    }
   ],
   "source": [
    "# Visualizar topo da tabela\n",
    "clinica.head()"
   ]
  },
  {
   "cell_type": "markdown",
   "metadata": {},
   "source": [
    "##### Valores ausentes"
   ]
  },
  {
   "cell_type": "code",
   "execution_count": 18,
   "metadata": {},
   "outputs": [
    {
     "data": {
      "text/plain": [
       "id_cliente    0\n",
       "peso          5\n",
       "colesterol    0\n",
       "genero        0\n",
       "dtype: int64"
      ]
     },
     "execution_count": 18,
     "metadata": {},
     "output_type": "execute_result"
    }
   ],
   "source": [
    "# Procurar por NAN\n",
    "clinica.isna().sum()"
   ]
  },
  {
   "cell_type": "markdown",
   "metadata": {},
   "source": [
    "##### Valores duplicados"
   ]
  },
  {
   "cell_type": "code",
   "execution_count": 19,
   "metadata": {},
   "outputs": [
    {
     "name": "stdout",
     "output_type": "stream",
     "text": [
      "Número de linhas duplicadas: 43\n"
     ]
    }
   ],
   "source": [
    "# Procurando por registros duplicados\n",
    "num_duplicados = clinica.duplicated().sum()\n",
    "print(f\"Número de linhas duplicadas: {num_duplicados}\")"
   ]
  },
  {
   "cell_type": "markdown",
   "metadata": {},
   "source": [
    "##### Removendo os NAN\n"
   ]
  },
  {
   "cell_type": "code",
   "execution_count": 20,
   "metadata": {},
   "outputs": [
    {
     "data": {
      "text/plain": [
       "id_cliente    585\n",
       "peso          585\n",
       "colesterol    585\n",
       "genero        585\n",
       "dtype: int64"
      ]
     },
     "execution_count": 20,
     "metadata": {},
     "output_type": "execute_result"
    }
   ],
   "source": [
    "# coluna que está o NAN\n",
    "clinica = clinica.dropna(subset=['peso'])\n",
    "clinica.count()"
   ]
  },
  {
   "cell_type": "markdown",
   "metadata": {},
   "source": [
    "##### Removendo as duplicatas\n"
   ]
  },
  {
   "cell_type": "code",
   "execution_count": 21,
   "metadata": {},
   "outputs": [
    {
     "name": "stdout",
     "output_type": "stream",
     "text": [
      "Número de linhas duplicadas: 0\n"
     ]
    }
   ],
   "source": [
    "clinica = clinica.drop_duplicates(\n",
    "    subset='id_cliente',\n",
    "    keep='first'\n",
    ")\n",
    "\n",
    "clinica_sem_duplicatas = clinica\n",
    "num_duplicados = clinica_sem_duplicatas.duplicated().sum()\n",
    "print(f\"Número de linhas duplicadas: {num_duplicados}\")"
   ]
  },
  {
   "cell_type": "markdown",
   "metadata": {},
   "source": [
    "#### <span style=\"font-size:20px; color:#00FFFF; font-weight:bold;\">Pacientes</span>\n"
   ]
  },
  {
   "cell_type": "markdown",
   "metadata": {},
   "source": [
    "##### Valores Nulos"
   ]
  },
  {
   "cell_type": "code",
   "execution_count": 22,
   "metadata": {},
   "outputs": [
    {
     "data": {
      "text/plain": [
       "id_cliente           0\n",
       "idade                0\n",
       "classe_trabalho    387\n",
       "escolaridade         0\n",
       "id_estado            0\n",
       "estado_civil         0\n",
       "raca                 0\n",
       "qtde_filhos         10\n",
       "salario              0\n",
       "dtype: int64"
      ]
     },
     "execution_count": 22,
     "metadata": {},
     "output_type": "execute_result"
    }
   ],
   "source": [
    "pacientes.isna().sum()"
   ]
  },
  {
   "cell_type": "markdown",
   "metadata": {},
   "source": [
    "##### Usando Moda (Mode) para preencher os valores nulos"
   ]
  },
  {
   "cell_type": "code",
   "execution_count": 23,
   "metadata": {},
   "outputs": [],
   "source": [
    "# Calcular a moda de cada coluna\n",
    "moda_classe_trabalho = pacientes['classe_trabalho'].mode().iloc[0]\n",
    "moda_qtde_filhos = pacientes['qtde_filhos'].mode().iloc[0]"
   ]
  },
  {
   "cell_type": "code",
   "execution_count": 24,
   "metadata": {},
   "outputs": [],
   "source": [
    "# Preenchendo os valores ausentes com a moda\n",
    "#pacientes['classe_trabalho'].fillna(moda_classe_trabalho, inplace= True)\n",
    "pacientes.fillna({'classe_trabalho': moda_classe_trabalho}, inplace=True)\n",
    "\n",
    "#pacientes['qtde_filhos'].fillna(moda_qtde_filhos, inplace= True)\n",
    "pacientes.fillna({'qtde_filhos': moda_qtde_filhos}, inplace= True)"
   ]
  },
  {
   "cell_type": "code",
   "execution_count": 25,
   "metadata": {},
   "outputs": [
    {
     "data": {
      "text/plain": [
       "id_cliente         0\n",
       "idade              0\n",
       "classe_trabalho    0\n",
       "escolaridade       0\n",
       "id_estado          0\n",
       "estado_civil       0\n",
       "raca               0\n",
       "qtde_filhos        0\n",
       "salario            0\n",
       "dtype: int64"
      ]
     },
     "execution_count": 25,
     "metadata": {},
     "output_type": "execute_result"
    }
   ],
   "source": [
    "pacientes.isna().sum()"
   ]
  },
  {
   "cell_type": "markdown",
   "metadata": {},
   "source": [
    "#### <span style=\"font-size:20px; color:#FFDF00; font-weight:bold;\">Adicionando coluna genero_number</span>"
   ]
  },
  {
   "cell_type": "code",
   "execution_count": 26,
   "metadata": {},
   "outputs": [
    {
     "data": {
      "text/html": [
       "<div>\n",
       "<style scoped>\n",
       "    .dataframe tbody tr th:only-of-type {\n",
       "        vertical-align: middle;\n",
       "    }\n",
       "\n",
       "    .dataframe tbody tr th {\n",
       "        vertical-align: top;\n",
       "    }\n",
       "\n",
       "    .dataframe thead th {\n",
       "        text-align: right;\n",
       "    }\n",
       "</style>\n",
       "<table border=\"1\" class=\"dataframe\">\n",
       "  <thead>\n",
       "    <tr style=\"text-align: right;\">\n",
       "      <th></th>\n",
       "      <th>id_cliente</th>\n",
       "      <th>peso</th>\n",
       "      <th>colesterol</th>\n",
       "      <th>genero</th>\n",
       "      <th>genero_number</th>\n",
       "    </tr>\n",
       "  </thead>\n",
       "  <tbody>\n",
       "    <tr>\n",
       "      <th>0</th>\n",
       "      <td>1</td>\n",
       "      <td>102.0</td>\n",
       "      <td>111</td>\n",
       "      <td>Masculino</td>\n",
       "      <td>1</td>\n",
       "    </tr>\n",
       "    <tr>\n",
       "      <th>1</th>\n",
       "      <td>2</td>\n",
       "      <td>115.0</td>\n",
       "      <td>135</td>\n",
       "      <td>Masculino</td>\n",
       "      <td>1</td>\n",
       "    </tr>\n",
       "    <tr>\n",
       "      <th>2</th>\n",
       "      <td>3</td>\n",
       "      <td>115.0</td>\n",
       "      <td>136</td>\n",
       "      <td>Masculino</td>\n",
       "      <td>1</td>\n",
       "    </tr>\n",
       "    <tr>\n",
       "      <th>3</th>\n",
       "      <td>4</td>\n",
       "      <td>140.0</td>\n",
       "      <td>167</td>\n",
       "      <td>Feminino</td>\n",
       "      <td>0</td>\n",
       "    </tr>\n",
       "    <tr>\n",
       "      <th>4</th>\n",
       "      <td>5</td>\n",
       "      <td>130.0</td>\n",
       "      <td>158</td>\n",
       "      <td>Masculino</td>\n",
       "      <td>1</td>\n",
       "    </tr>\n",
       "    <tr>\n",
       "      <th>...</th>\n",
       "      <td>...</td>\n",
       "      <td>...</td>\n",
       "      <td>...</td>\n",
       "      <td>...</td>\n",
       "      <td>...</td>\n",
       "    </tr>\n",
       "    <tr>\n",
       "      <th>542</th>\n",
       "      <td>543</td>\n",
       "      <td>172.0</td>\n",
       "      <td>207</td>\n",
       "      <td>Masculino</td>\n",
       "      <td>1</td>\n",
       "    </tr>\n",
       "    <tr>\n",
       "      <th>543</th>\n",
       "      <td>544</td>\n",
       "      <td>129.0</td>\n",
       "      <td>157</td>\n",
       "      <td>Masculino</td>\n",
       "      <td>1</td>\n",
       "    </tr>\n",
       "    <tr>\n",
       "      <th>544</th>\n",
       "      <td>545</td>\n",
       "      <td>107.0</td>\n",
       "      <td>115</td>\n",
       "      <td>Masculino</td>\n",
       "      <td>1</td>\n",
       "    </tr>\n",
       "    <tr>\n",
       "      <th>545</th>\n",
       "      <td>546</td>\n",
       "      <td>117.0</td>\n",
       "      <td>147</td>\n",
       "      <td>Masculino</td>\n",
       "      <td>1</td>\n",
       "    </tr>\n",
       "    <tr>\n",
       "      <th>546</th>\n",
       "      <td>547</td>\n",
       "      <td>148.0</td>\n",
       "      <td>176</td>\n",
       "      <td>Masculino</td>\n",
       "      <td>1</td>\n",
       "    </tr>\n",
       "  </tbody>\n",
       "</table>\n",
       "<p>542 rows × 5 columns</p>\n",
       "</div>"
      ],
      "text/plain": [
       "     id_cliente   peso  colesterol     genero  genero_number\n",
       "0             1  102.0         111  Masculino              1\n",
       "1             2  115.0         135  Masculino              1\n",
       "2             3  115.0         136  Masculino              1\n",
       "3             4  140.0         167   Feminino              0\n",
       "4             5  130.0         158  Masculino              1\n",
       "..          ...    ...         ...        ...            ...\n",
       "542         543  172.0         207  Masculino              1\n",
       "543         544  129.0         157  Masculino              1\n",
       "544         545  107.0         115  Masculino              1\n",
       "545         546  117.0         147  Masculino              1\n",
       "546         547  148.0         176  Masculino              1\n",
       "\n",
       "[542 rows x 5 columns]"
      ]
     },
     "execution_count": 26,
     "metadata": {},
     "output_type": "execute_result"
    }
   ],
   "source": [
    "LE = LabelEncoder()\n",
    "clinica_sem_duplicatas['genero_number'] = LE.fit_transform(clinica_sem_duplicatas['genero'])\n",
    "clinica_sem_duplicatas"
   ]
  },
  {
   "cell_type": "markdown",
   "metadata": {},
   "source": [
    "### Integração dos arquivos e dados"
   ]
  },
  {
   "cell_type": "markdown",
   "metadata": {},
   "source": [
    "<span style=\"font-size:20px; color:#FFDF00; font-weight:bold;\">Verificação do topo dos arquivos</span>\n"
   ]
  },
  {
   "cell_type": "code",
   "execution_count": 27,
   "metadata": {},
   "outputs": [
    {
     "data": {
      "text/html": [
       "<div>\n",
       "<style scoped>\n",
       "    .dataframe tbody tr th:only-of-type {\n",
       "        vertical-align: middle;\n",
       "    }\n",
       "\n",
       "    .dataframe tbody tr th {\n",
       "        vertical-align: top;\n",
       "    }\n",
       "\n",
       "    .dataframe thead th {\n",
       "        text-align: right;\n",
       "    }\n",
       "</style>\n",
       "<table border=\"1\" class=\"dataframe\">\n",
       "  <thead>\n",
       "    <tr style=\"text-align: right;\">\n",
       "      <th></th>\n",
       "      <th>id_estado</th>\n",
       "      <th>sigla</th>\n",
       "      <th>estado</th>\n",
       "      <th>regiao</th>\n",
       "      <th>pais</th>\n",
       "    </tr>\n",
       "  </thead>\n",
       "  <tbody>\n",
       "    <tr>\n",
       "      <th>0</th>\n",
       "      <td>1</td>\n",
       "      <td>AC</td>\n",
       "      <td>Acre</td>\n",
       "      <td>Norte</td>\n",
       "      <td>Brasil</td>\n",
       "    </tr>\n",
       "    <tr>\n",
       "      <th>1</th>\n",
       "      <td>2</td>\n",
       "      <td>AL</td>\n",
       "      <td>Alagoas</td>\n",
       "      <td>Nordeste</td>\n",
       "      <td>Brasil</td>\n",
       "    </tr>\n",
       "    <tr>\n",
       "      <th>2</th>\n",
       "      <td>3</td>\n",
       "      <td>AP</td>\n",
       "      <td>Amapá</td>\n",
       "      <td>Norte</td>\n",
       "      <td>Brasil</td>\n",
       "    </tr>\n",
       "  </tbody>\n",
       "</table>\n",
       "</div>"
      ],
      "text/plain": [
       "   id_estado sigla   estado    regiao    pais\n",
       "0          1    AC     Acre     Norte  Brasil\n",
       "1          2    AL  Alagoas  Nordeste  Brasil\n",
       "2          3    AP    Amapá     Norte  Brasil"
      ]
     },
     "execution_count": 27,
     "metadata": {},
     "output_type": "execute_result"
    }
   ],
   "source": [
    "estados[:3]"
   ]
  },
  {
   "cell_type": "code",
   "execution_count": 28,
   "metadata": {},
   "outputs": [
    {
     "data": {
      "text/html": [
       "<div>\n",
       "<style scoped>\n",
       "    .dataframe tbody tr th:only-of-type {\n",
       "        vertical-align: middle;\n",
       "    }\n",
       "\n",
       "    .dataframe tbody tr th {\n",
       "        vertical-align: top;\n",
       "    }\n",
       "\n",
       "    .dataframe thead th {\n",
       "        text-align: right;\n",
       "    }\n",
       "</style>\n",
       "<table border=\"1\" class=\"dataframe\">\n",
       "  <thead>\n",
       "    <tr style=\"text-align: right;\">\n",
       "      <th></th>\n",
       "      <th>id_cliente</th>\n",
       "      <th>idade</th>\n",
       "      <th>classe_trabalho</th>\n",
       "      <th>escolaridade</th>\n",
       "      <th>id_estado</th>\n",
       "      <th>estado_civil</th>\n",
       "      <th>raca</th>\n",
       "      <th>qtde_filhos</th>\n",
       "      <th>salario</th>\n",
       "    </tr>\n",
       "  </thead>\n",
       "  <tbody>\n",
       "    <tr>\n",
       "      <th>0</th>\n",
       "      <td>1</td>\n",
       "      <td>39</td>\n",
       "      <td>Servidor Público</td>\n",
       "      <td>Ensino Médio Completo</td>\n",
       "      <td>2</td>\n",
       "      <td>Solteiro</td>\n",
       "      <td>Branco</td>\n",
       "      <td>2.0</td>\n",
       "      <td>4754</td>\n",
       "    </tr>\n",
       "    <tr>\n",
       "      <th>1</th>\n",
       "      <td>2</td>\n",
       "      <td>50</td>\n",
       "      <td>Autônomo</td>\n",
       "      <td>Superior Incompleto</td>\n",
       "      <td>24</td>\n",
       "      <td>Casado</td>\n",
       "      <td>Branco</td>\n",
       "      <td>1.0</td>\n",
       "      <td>3923</td>\n",
       "    </tr>\n",
       "    <tr>\n",
       "      <th>2</th>\n",
       "      <td>3</td>\n",
       "      <td>38</td>\n",
       "      <td>Funcionário Setor Privado</td>\n",
       "      <td>Ensino Médio Incompleto</td>\n",
       "      <td>4</td>\n",
       "      <td>Divorciado</td>\n",
       "      <td>Branco</td>\n",
       "      <td>0.0</td>\n",
       "      <td>1100</td>\n",
       "    </tr>\n",
       "  </tbody>\n",
       "</table>\n",
       "</div>"
      ],
      "text/plain": [
       "   id_cliente  idade            classe_trabalho             escolaridade  \\\n",
       "0           1     39           Servidor Público    Ensino Médio Completo   \n",
       "1           2     50                   Autônomo      Superior Incompleto   \n",
       "2           3     38  Funcionário Setor Privado  Ensino Médio Incompleto   \n",
       "\n",
       "   id_estado estado_civil    raca  qtde_filhos  salario  \n",
       "0          2     Solteiro  Branco          2.0     4754  \n",
       "1         24       Casado  Branco          1.0     3923  \n",
       "2          4   Divorciado  Branco          0.0     1100  "
      ]
     },
     "execution_count": 28,
     "metadata": {},
     "output_type": "execute_result"
    }
   ],
   "source": [
    "pacientes[:3]"
   ]
  },
  {
   "cell_type": "code",
   "execution_count": 29,
   "metadata": {},
   "outputs": [
    {
     "data": {
      "text/html": [
       "<div>\n",
       "<style scoped>\n",
       "    .dataframe tbody tr th:only-of-type {\n",
       "        vertical-align: middle;\n",
       "    }\n",
       "\n",
       "    .dataframe tbody tr th {\n",
       "        vertical-align: top;\n",
       "    }\n",
       "\n",
       "    .dataframe thead th {\n",
       "        text-align: right;\n",
       "    }\n",
       "</style>\n",
       "<table border=\"1\" class=\"dataframe\">\n",
       "  <thead>\n",
       "    <tr style=\"text-align: right;\">\n",
       "      <th></th>\n",
       "      <th>id_cliente</th>\n",
       "      <th>peso</th>\n",
       "      <th>colesterol</th>\n",
       "      <th>genero</th>\n",
       "      <th>genero_number</th>\n",
       "    </tr>\n",
       "  </thead>\n",
       "  <tbody>\n",
       "    <tr>\n",
       "      <th>0</th>\n",
       "      <td>1</td>\n",
       "      <td>102.0</td>\n",
       "      <td>111</td>\n",
       "      <td>Masculino</td>\n",
       "      <td>1</td>\n",
       "    </tr>\n",
       "    <tr>\n",
       "      <th>1</th>\n",
       "      <td>2</td>\n",
       "      <td>115.0</td>\n",
       "      <td>135</td>\n",
       "      <td>Masculino</td>\n",
       "      <td>1</td>\n",
       "    </tr>\n",
       "    <tr>\n",
       "      <th>2</th>\n",
       "      <td>3</td>\n",
       "      <td>115.0</td>\n",
       "      <td>136</td>\n",
       "      <td>Masculino</td>\n",
       "      <td>1</td>\n",
       "    </tr>\n",
       "  </tbody>\n",
       "</table>\n",
       "</div>"
      ],
      "text/plain": [
       "   id_cliente   peso  colesterol     genero  genero_number\n",
       "0           1  102.0         111  Masculino              1\n",
       "1           2  115.0         135  Masculino              1\n",
       "2           3  115.0         136  Masculino              1"
      ]
     },
     "execution_count": 29,
     "metadata": {},
     "output_type": "execute_result"
    }
   ],
   "source": [
    "clinica_sem_duplicatas[:3]"
   ]
  },
  {
   "cell_type": "markdown",
   "metadata": {},
   "source": [
    "<span style=\"font-size:20px; color:#FFDF00; font-weight:bold;\">Unindo os arquivos</span>\n"
   ]
  },
  {
   "cell_type": "code",
   "execution_count": 30,
   "metadata": {},
   "outputs": [],
   "source": [
    "# Configurando o pandas para mostrar todas as colunas\n",
    "pd.set_option('display.max_columns', None)\n"
   ]
  },
  {
   "cell_type": "code",
   "execution_count": 31,
   "metadata": {},
   "outputs": [
    {
     "data": {
      "text/html": [
       "<div>\n",
       "<style scoped>\n",
       "    .dataframe tbody tr th:only-of-type {\n",
       "        vertical-align: middle;\n",
       "    }\n",
       "\n",
       "    .dataframe tbody tr th {\n",
       "        vertical-align: top;\n",
       "    }\n",
       "\n",
       "    .dataframe thead th {\n",
       "        text-align: right;\n",
       "    }\n",
       "</style>\n",
       "<table border=\"1\" class=\"dataframe\">\n",
       "  <thead>\n",
       "    <tr style=\"text-align: right;\">\n",
       "      <th></th>\n",
       "      <th>id_cliente</th>\n",
       "      <th>idade</th>\n",
       "      <th>classe_trabalho</th>\n",
       "      <th>escolaridade</th>\n",
       "      <th>id_estado</th>\n",
       "      <th>estado_civil</th>\n",
       "      <th>raca</th>\n",
       "      <th>qtde_filhos</th>\n",
       "      <th>salario</th>\n",
       "      <th>sigla</th>\n",
       "      <th>estado</th>\n",
       "      <th>regiao</th>\n",
       "      <th>pais</th>\n",
       "    </tr>\n",
       "  </thead>\n",
       "  <tbody>\n",
       "    <tr>\n",
       "      <th>0</th>\n",
       "      <td>1</td>\n",
       "      <td>39</td>\n",
       "      <td>Servidor Público</td>\n",
       "      <td>Ensino Médio Completo</td>\n",
       "      <td>2</td>\n",
       "      <td>Solteiro</td>\n",
       "      <td>Branco</td>\n",
       "      <td>2.0</td>\n",
       "      <td>4754</td>\n",
       "      <td>AL</td>\n",
       "      <td>Alagoas</td>\n",
       "      <td>Nordeste</td>\n",
       "      <td>Brasil</td>\n",
       "    </tr>\n",
       "    <tr>\n",
       "      <th>1</th>\n",
       "      <td>2</td>\n",
       "      <td>50</td>\n",
       "      <td>Autônomo</td>\n",
       "      <td>Superior Incompleto</td>\n",
       "      <td>24</td>\n",
       "      <td>Casado</td>\n",
       "      <td>Branco</td>\n",
       "      <td>1.0</td>\n",
       "      <td>3923</td>\n",
       "      <td>SC</td>\n",
       "      <td>Santa Catarina</td>\n",
       "      <td>Sul</td>\n",
       "      <td>Brasil</td>\n",
       "    </tr>\n",
       "    <tr>\n",
       "      <th>2</th>\n",
       "      <td>3</td>\n",
       "      <td>38</td>\n",
       "      <td>Funcionário Setor Privado</td>\n",
       "      <td>Ensino Médio Incompleto</td>\n",
       "      <td>4</td>\n",
       "      <td>Divorciado</td>\n",
       "      <td>Branco</td>\n",
       "      <td>0.0</td>\n",
       "      <td>1100</td>\n",
       "      <td>AM</td>\n",
       "      <td>Amazonas</td>\n",
       "      <td>Norte</td>\n",
       "      <td>Brasil</td>\n",
       "    </tr>\n",
       "    <tr>\n",
       "      <th>3</th>\n",
       "      <td>4</td>\n",
       "      <td>53</td>\n",
       "      <td>Funcionário Setor Privado</td>\n",
       "      <td>Ensino Médio Incompleto</td>\n",
       "      <td>24</td>\n",
       "      <td>Casado</td>\n",
       "      <td>Negro</td>\n",
       "      <td>1.0</td>\n",
       "      <td>1100</td>\n",
       "      <td>SC</td>\n",
       "      <td>Santa Catarina</td>\n",
       "      <td>Sul</td>\n",
       "      <td>Brasil</td>\n",
       "    </tr>\n",
       "    <tr>\n",
       "      <th>4</th>\n",
       "      <td>5</td>\n",
       "      <td>28</td>\n",
       "      <td>Funcionário Setor Privado</td>\n",
       "      <td>Ensino Médio Completo</td>\n",
       "      <td>15</td>\n",
       "      <td>Casado</td>\n",
       "      <td>Negro</td>\n",
       "      <td>0.0</td>\n",
       "      <td>3430</td>\n",
       "      <td>PB</td>\n",
       "      <td>Paraíba</td>\n",
       "      <td>Nordeste</td>\n",
       "      <td>Brasil</td>\n",
       "    </tr>\n",
       "    <tr>\n",
       "      <th>...</th>\n",
       "      <td>...</td>\n",
       "      <td>...</td>\n",
       "      <td>...</td>\n",
       "      <td>...</td>\n",
       "      <td>...</td>\n",
       "      <td>...</td>\n",
       "      <td>...</td>\n",
       "      <td>...</td>\n",
       "      <td>...</td>\n",
       "      <td>...</td>\n",
       "      <td>...</td>\n",
       "      <td>...</td>\n",
       "      <td>...</td>\n",
       "    </tr>\n",
       "    <tr>\n",
       "      <th>7994</th>\n",
       "      <td>7995</td>\n",
       "      <td>23</td>\n",
       "      <td>Funcionário Setor Privado</td>\n",
       "      <td>Ensino Médio Completo</td>\n",
       "      <td>7</td>\n",
       "      <td>Casado</td>\n",
       "      <td>Negro</td>\n",
       "      <td>3.0</td>\n",
       "      <td>2856</td>\n",
       "      <td>DF</td>\n",
       "      <td>Distrito Federal</td>\n",
       "      <td>Centro-Oeste</td>\n",
       "      <td>Brasil</td>\n",
       "    </tr>\n",
       "    <tr>\n",
       "      <th>7995</th>\n",
       "      <td>7996</td>\n",
       "      <td>19</td>\n",
       "      <td>Funcionário Setor Privado</td>\n",
       "      <td>Ensino Médio Incompleto</td>\n",
       "      <td>5</td>\n",
       "      <td>Solteiro</td>\n",
       "      <td>Branco</td>\n",
       "      <td>1.0</td>\n",
       "      <td>1100</td>\n",
       "      <td>BA</td>\n",
       "      <td>Bahia</td>\n",
       "      <td>Nordeste</td>\n",
       "      <td>Brasil</td>\n",
       "    </tr>\n",
       "    <tr>\n",
       "      <th>7996</th>\n",
       "      <td>7997</td>\n",
       "      <td>44</td>\n",
       "      <td>Funcionário Setor Privado</td>\n",
       "      <td>Ensino Médio Completo</td>\n",
       "      <td>23</td>\n",
       "      <td>Casado</td>\n",
       "      <td>Branco</td>\n",
       "      <td>0.0</td>\n",
       "      <td>3729</td>\n",
       "      <td>RR</td>\n",
       "      <td>Roraima</td>\n",
       "      <td>Norte</td>\n",
       "      <td>Brasil</td>\n",
       "    </tr>\n",
       "    <tr>\n",
       "      <th>7997</th>\n",
       "      <td>7998</td>\n",
       "      <td>20</td>\n",
       "      <td>Funcionário Setor Privado</td>\n",
       "      <td>Ensino Médio Incompleto</td>\n",
       "      <td>8</td>\n",
       "      <td>Solteiro</td>\n",
       "      <td>Negro</td>\n",
       "      <td>0.0</td>\n",
       "      <td>1100</td>\n",
       "      <td>ES</td>\n",
       "      <td>Espírito Santo</td>\n",
       "      <td>Sudeste</td>\n",
       "      <td>Brasil</td>\n",
       "    </tr>\n",
       "    <tr>\n",
       "      <th>7998</th>\n",
       "      <td>7999</td>\n",
       "      <td>41</td>\n",
       "      <td>Funcionário Setor Privado</td>\n",
       "      <td>Ensino Médio Completo</td>\n",
       "      <td>13</td>\n",
       "      <td>Casado</td>\n",
       "      <td>Branco</td>\n",
       "      <td>1.0</td>\n",
       "      <td>2579</td>\n",
       "      <td>MG</td>\n",
       "      <td>Minas Gerais</td>\n",
       "      <td>Sudeste</td>\n",
       "      <td>Brasil</td>\n",
       "    </tr>\n",
       "  </tbody>\n",
       "</table>\n",
       "<p>7999 rows × 13 columns</p>\n",
       "</div>"
      ],
      "text/plain": [
       "      id_cliente  idade            classe_trabalho             escolaridade  \\\n",
       "0              1     39           Servidor Público    Ensino Médio Completo   \n",
       "1              2     50                   Autônomo      Superior Incompleto   \n",
       "2              3     38  Funcionário Setor Privado  Ensino Médio Incompleto   \n",
       "3              4     53  Funcionário Setor Privado  Ensino Médio Incompleto   \n",
       "4              5     28  Funcionário Setor Privado    Ensino Médio Completo   \n",
       "...          ...    ...                        ...                      ...   \n",
       "7994        7995     23  Funcionário Setor Privado    Ensino Médio Completo   \n",
       "7995        7996     19  Funcionário Setor Privado  Ensino Médio Incompleto   \n",
       "7996        7997     44  Funcionário Setor Privado    Ensino Médio Completo   \n",
       "7997        7998     20  Funcionário Setor Privado  Ensino Médio Incompleto   \n",
       "7998        7999     41  Funcionário Setor Privado    Ensino Médio Completo   \n",
       "\n",
       "      id_estado estado_civil    raca  qtde_filhos  salario sigla  \\\n",
       "0             2     Solteiro  Branco          2.0     4754    AL   \n",
       "1            24       Casado  Branco          1.0     3923    SC   \n",
       "2             4   Divorciado  Branco          0.0     1100    AM   \n",
       "3            24       Casado   Negro          1.0     1100    SC   \n",
       "4            15       Casado   Negro          0.0     3430    PB   \n",
       "...         ...          ...     ...          ...      ...   ...   \n",
       "7994          7       Casado   Negro          3.0     2856    DF   \n",
       "7995          5     Solteiro  Branco          1.0     1100    BA   \n",
       "7996         23       Casado  Branco          0.0     3729    RR   \n",
       "7997          8     Solteiro   Negro          0.0     1100    ES   \n",
       "7998         13       Casado  Branco          1.0     2579    MG   \n",
       "\n",
       "                estado        regiao    pais  \n",
       "0              Alagoas      Nordeste  Brasil  \n",
       "1       Santa Catarina           Sul  Brasil  \n",
       "2             Amazonas         Norte  Brasil  \n",
       "3       Santa Catarina           Sul  Brasil  \n",
       "4              Paraíba      Nordeste  Brasil  \n",
       "...                ...           ...     ...  \n",
       "7994  Distrito Federal  Centro-Oeste  Brasil  \n",
       "7995             Bahia      Nordeste  Brasil  \n",
       "7996           Roraima         Norte  Brasil  \n",
       "7997    Espírito Santo       Sudeste  Brasil  \n",
       "7998      Minas Gerais       Sudeste  Brasil  \n",
       "\n",
       "[7999 rows x 13 columns]"
      ]
     },
     "execution_count": 31,
     "metadata": {},
     "output_type": "execute_result"
    }
   ],
   "source": [
    "# Unindo os arquivos 'dados_pacientes.csv' e 'estado_regiao.csv'\n",
    "paciente_estados = pd.merge(pacientes, estados, on='id_estado')\n",
    "paciente_estados.sort_values('id_cliente')"
   ]
  },
  {
   "cell_type": "code",
   "execution_count": 32,
   "metadata": {},
   "outputs": [
    {
     "data": {
      "text/html": [
       "<div>\n",
       "<style scoped>\n",
       "    .dataframe tbody tr th:only-of-type {\n",
       "        vertical-align: middle;\n",
       "    }\n",
       "\n",
       "    .dataframe tbody tr th {\n",
       "        vertical-align: top;\n",
       "    }\n",
       "\n",
       "    .dataframe thead th {\n",
       "        text-align: right;\n",
       "    }\n",
       "</style>\n",
       "<table border=\"1\" class=\"dataframe\">\n",
       "  <thead>\n",
       "    <tr style=\"text-align: right;\">\n",
       "      <th></th>\n",
       "      <th>id_cliente</th>\n",
       "      <th>idade</th>\n",
       "      <th>classe_trabalho</th>\n",
       "      <th>escolaridade</th>\n",
       "      <th>id_estado</th>\n",
       "      <th>estado_civil</th>\n",
       "      <th>raca</th>\n",
       "      <th>qtde_filhos</th>\n",
       "      <th>salario</th>\n",
       "      <th>sigla</th>\n",
       "      <th>estado</th>\n",
       "      <th>regiao</th>\n",
       "      <th>pais</th>\n",
       "      <th>peso</th>\n",
       "      <th>colesterol</th>\n",
       "      <th>genero</th>\n",
       "      <th>genero_number</th>\n",
       "    </tr>\n",
       "  </thead>\n",
       "  <tbody>\n",
       "    <tr>\n",
       "      <th>0</th>\n",
       "      <td>1</td>\n",
       "      <td>39</td>\n",
       "      <td>Servidor Público</td>\n",
       "      <td>Ensino Médio Completo</td>\n",
       "      <td>2</td>\n",
       "      <td>Solteiro</td>\n",
       "      <td>Branco</td>\n",
       "      <td>2.0</td>\n",
       "      <td>4754</td>\n",
       "      <td>AL</td>\n",
       "      <td>Alagoas</td>\n",
       "      <td>Nordeste</td>\n",
       "      <td>Brasil</td>\n",
       "      <td>102.0</td>\n",
       "      <td>111</td>\n",
       "      <td>Masculino</td>\n",
       "      <td>1</td>\n",
       "    </tr>\n",
       "    <tr>\n",
       "      <th>1</th>\n",
       "      <td>2</td>\n",
       "      <td>50</td>\n",
       "      <td>Autônomo</td>\n",
       "      <td>Superior Incompleto</td>\n",
       "      <td>24</td>\n",
       "      <td>Casado</td>\n",
       "      <td>Branco</td>\n",
       "      <td>1.0</td>\n",
       "      <td>3923</td>\n",
       "      <td>SC</td>\n",
       "      <td>Santa Catarina</td>\n",
       "      <td>Sul</td>\n",
       "      <td>Brasil</td>\n",
       "      <td>115.0</td>\n",
       "      <td>135</td>\n",
       "      <td>Masculino</td>\n",
       "      <td>1</td>\n",
       "    </tr>\n",
       "    <tr>\n",
       "      <th>2</th>\n",
       "      <td>3</td>\n",
       "      <td>38</td>\n",
       "      <td>Funcionário Setor Privado</td>\n",
       "      <td>Ensino Médio Incompleto</td>\n",
       "      <td>4</td>\n",
       "      <td>Divorciado</td>\n",
       "      <td>Branco</td>\n",
       "      <td>0.0</td>\n",
       "      <td>1100</td>\n",
       "      <td>AM</td>\n",
       "      <td>Amazonas</td>\n",
       "      <td>Norte</td>\n",
       "      <td>Brasil</td>\n",
       "      <td>115.0</td>\n",
       "      <td>136</td>\n",
       "      <td>Masculino</td>\n",
       "      <td>1</td>\n",
       "    </tr>\n",
       "    <tr>\n",
       "      <th>3</th>\n",
       "      <td>4</td>\n",
       "      <td>53</td>\n",
       "      <td>Funcionário Setor Privado</td>\n",
       "      <td>Ensino Médio Incompleto</td>\n",
       "      <td>24</td>\n",
       "      <td>Casado</td>\n",
       "      <td>Negro</td>\n",
       "      <td>1.0</td>\n",
       "      <td>1100</td>\n",
       "      <td>SC</td>\n",
       "      <td>Santa Catarina</td>\n",
       "      <td>Sul</td>\n",
       "      <td>Brasil</td>\n",
       "      <td>140.0</td>\n",
       "      <td>167</td>\n",
       "      <td>Feminino</td>\n",
       "      <td>0</td>\n",
       "    </tr>\n",
       "    <tr>\n",
       "      <th>4</th>\n",
       "      <td>5</td>\n",
       "      <td>28</td>\n",
       "      <td>Funcionário Setor Privado</td>\n",
       "      <td>Ensino Médio Completo</td>\n",
       "      <td>15</td>\n",
       "      <td>Casado</td>\n",
       "      <td>Negro</td>\n",
       "      <td>0.0</td>\n",
       "      <td>3430</td>\n",
       "      <td>PB</td>\n",
       "      <td>Paraíba</td>\n",
       "      <td>Nordeste</td>\n",
       "      <td>Brasil</td>\n",
       "      <td>130.0</td>\n",
       "      <td>158</td>\n",
       "      <td>Masculino</td>\n",
       "      <td>1</td>\n",
       "    </tr>\n",
       "    <tr>\n",
       "      <th>...</th>\n",
       "      <td>...</td>\n",
       "      <td>...</td>\n",
       "      <td>...</td>\n",
       "      <td>...</td>\n",
       "      <td>...</td>\n",
       "      <td>...</td>\n",
       "      <td>...</td>\n",
       "      <td>...</td>\n",
       "      <td>...</td>\n",
       "      <td>...</td>\n",
       "      <td>...</td>\n",
       "      <td>...</td>\n",
       "      <td>...</td>\n",
       "      <td>...</td>\n",
       "      <td>...</td>\n",
       "      <td>...</td>\n",
       "      <td>...</td>\n",
       "    </tr>\n",
       "    <tr>\n",
       "      <th>537</th>\n",
       "      <td>543</td>\n",
       "      <td>46</td>\n",
       "      <td>Autônomo</td>\n",
       "      <td>Ensino Médio Completo</td>\n",
       "      <td>9</td>\n",
       "      <td>Divorciado</td>\n",
       "      <td>Branco</td>\n",
       "      <td>1.0</td>\n",
       "      <td>3533</td>\n",
       "      <td>GO</td>\n",
       "      <td>Goiás</td>\n",
       "      <td>Centro-Oeste</td>\n",
       "      <td>Brasil</td>\n",
       "      <td>172.0</td>\n",
       "      <td>207</td>\n",
       "      <td>Masculino</td>\n",
       "      <td>1</td>\n",
       "    </tr>\n",
       "    <tr>\n",
       "      <th>538</th>\n",
       "      <td>544</td>\n",
       "      <td>36</td>\n",
       "      <td>Autônomo</td>\n",
       "      <td>Ensino Médio Incompleto</td>\n",
       "      <td>5</td>\n",
       "      <td>Separado</td>\n",
       "      <td>Branco</td>\n",
       "      <td>1.0</td>\n",
       "      <td>1100</td>\n",
       "      <td>BA</td>\n",
       "      <td>Bahia</td>\n",
       "      <td>Nordeste</td>\n",
       "      <td>Brasil</td>\n",
       "      <td>129.0</td>\n",
       "      <td>157</td>\n",
       "      <td>Masculino</td>\n",
       "      <td>1</td>\n",
       "    </tr>\n",
       "    <tr>\n",
       "      <th>539</th>\n",
       "      <td>545</td>\n",
       "      <td>72</td>\n",
       "      <td>Aposentado</td>\n",
       "      <td>Ensino Médio Incompleto</td>\n",
       "      <td>1</td>\n",
       "      <td>Viúvo</td>\n",
       "      <td>Branco</td>\n",
       "      <td>1.0</td>\n",
       "      <td>4110</td>\n",
       "      <td>AC</td>\n",
       "      <td>Acre</td>\n",
       "      <td>Norte</td>\n",
       "      <td>Brasil</td>\n",
       "      <td>107.0</td>\n",
       "      <td>115</td>\n",
       "      <td>Masculino</td>\n",
       "      <td>1</td>\n",
       "    </tr>\n",
       "    <tr>\n",
       "      <th>540</th>\n",
       "      <td>546</td>\n",
       "      <td>35</td>\n",
       "      <td>Funcionário Setor Privado</td>\n",
       "      <td>Ensino Médio Incompleto</td>\n",
       "      <td>5</td>\n",
       "      <td>Casado</td>\n",
       "      <td>Negro</td>\n",
       "      <td>2.0</td>\n",
       "      <td>1100</td>\n",
       "      <td>BA</td>\n",
       "      <td>Bahia</td>\n",
       "      <td>Nordeste</td>\n",
       "      <td>Brasil</td>\n",
       "      <td>117.0</td>\n",
       "      <td>147</td>\n",
       "      <td>Masculino</td>\n",
       "      <td>1</td>\n",
       "    </tr>\n",
       "    <tr>\n",
       "      <th>541</th>\n",
       "      <td>547</td>\n",
       "      <td>33</td>\n",
       "      <td>Funcionário Público</td>\n",
       "      <td>Ensino Médio Completo</td>\n",
       "      <td>26</td>\n",
       "      <td>Divorciado</td>\n",
       "      <td>Negro</td>\n",
       "      <td>1.0</td>\n",
       "      <td>4925</td>\n",
       "      <td>SE</td>\n",
       "      <td>Sergipe</td>\n",
       "      <td>Nordeste</td>\n",
       "      <td>Brasil</td>\n",
       "      <td>148.0</td>\n",
       "      <td>176</td>\n",
       "      <td>Masculino</td>\n",
       "      <td>1</td>\n",
       "    </tr>\n",
       "  </tbody>\n",
       "</table>\n",
       "<p>542 rows × 17 columns</p>\n",
       "</div>"
      ],
      "text/plain": [
       "     id_cliente  idade            classe_trabalho             escolaridade  \\\n",
       "0             1     39           Servidor Público    Ensino Médio Completo   \n",
       "1             2     50                   Autônomo      Superior Incompleto   \n",
       "2             3     38  Funcionário Setor Privado  Ensino Médio Incompleto   \n",
       "3             4     53  Funcionário Setor Privado  Ensino Médio Incompleto   \n",
       "4             5     28  Funcionário Setor Privado    Ensino Médio Completo   \n",
       "..          ...    ...                        ...                      ...   \n",
       "537         543     46                   Autônomo    Ensino Médio Completo   \n",
       "538         544     36                   Autônomo  Ensino Médio Incompleto   \n",
       "539         545     72                 Aposentado  Ensino Médio Incompleto   \n",
       "540         546     35  Funcionário Setor Privado  Ensino Médio Incompleto   \n",
       "541         547     33        Funcionário Público    Ensino Médio Completo   \n",
       "\n",
       "     id_estado estado_civil    raca  qtde_filhos  salario sigla  \\\n",
       "0            2     Solteiro  Branco          2.0     4754    AL   \n",
       "1           24       Casado  Branco          1.0     3923    SC   \n",
       "2            4   Divorciado  Branco          0.0     1100    AM   \n",
       "3           24       Casado   Negro          1.0     1100    SC   \n",
       "4           15       Casado   Negro          0.0     3430    PB   \n",
       "..         ...          ...     ...          ...      ...   ...   \n",
       "537          9   Divorciado  Branco          1.0     3533    GO   \n",
       "538          5     Separado  Branco          1.0     1100    BA   \n",
       "539          1        Viúvo  Branco          1.0     4110    AC   \n",
       "540          5       Casado   Negro          2.0     1100    BA   \n",
       "541         26   Divorciado   Negro          1.0     4925    SE   \n",
       "\n",
       "             estado        regiao    pais   peso  colesterol     genero  \\\n",
       "0           Alagoas      Nordeste  Brasil  102.0         111  Masculino   \n",
       "1    Santa Catarina           Sul  Brasil  115.0         135  Masculino   \n",
       "2          Amazonas         Norte  Brasil  115.0         136  Masculino   \n",
       "3    Santa Catarina           Sul  Brasil  140.0         167   Feminino   \n",
       "4           Paraíba      Nordeste  Brasil  130.0         158  Masculino   \n",
       "..              ...           ...     ...    ...         ...        ...   \n",
       "537           Goiás  Centro-Oeste  Brasil  172.0         207  Masculino   \n",
       "538           Bahia      Nordeste  Brasil  129.0         157  Masculino   \n",
       "539            Acre         Norte  Brasil  107.0         115  Masculino   \n",
       "540           Bahia      Nordeste  Brasil  117.0         147  Masculino   \n",
       "541         Sergipe      Nordeste  Brasil  148.0         176  Masculino   \n",
       "\n",
       "     genero_number  \n",
       "0                1  \n",
       "1                1  \n",
       "2                1  \n",
       "3                0  \n",
       "4                1  \n",
       "..             ...  \n",
       "537              1  \n",
       "538              1  \n",
       "539              1  \n",
       "540              1  \n",
       "541              1  \n",
       "\n",
       "[542 rows x 17 columns]"
      ]
     },
     "execution_count": 32,
     "metadata": {},
     "output_type": "execute_result"
    }
   ],
   "source": [
    "# Unindo em base_completa: 'pacientes_estados' e 'dados_clinicos.csv'\n",
    "base_completa = pd.merge(paciente_estados, clinica, on='id_cliente')\n",
    "base_completa"
   ]
  },
  {
   "cell_type": "code",
   "execution_count": 33,
   "metadata": {},
   "outputs": [
    {
     "data": {
      "text/plain": [
       "id_cliente         0\n",
       "idade              0\n",
       "classe_trabalho    0\n",
       "escolaridade       0\n",
       "id_estado          0\n",
       "estado_civil       0\n",
       "raca               0\n",
       "qtde_filhos        0\n",
       "salario            0\n",
       "sigla              0\n",
       "estado             0\n",
       "regiao             0\n",
       "pais               0\n",
       "peso               0\n",
       "colesterol         0\n",
       "genero             0\n",
       "genero_number      0\n",
       "dtype: int64"
      ]
     },
     "execution_count": 33,
     "metadata": {},
     "output_type": "execute_result"
    }
   ],
   "source": [
    "# Procurando por NAN\n",
    "base_completa.isna().sum()"
   ]
  },
  {
   "cell_type": "code",
   "execution_count": 34,
   "metadata": {},
   "outputs": [
    {
     "name": "stdout",
     "output_type": "stream",
     "text": [
      "Número de linhas duplicadas: 0\n"
     ]
    }
   ],
   "source": [
    "# Procurando por registros duplicados\n",
    "num_duplicados = base_completa.duplicated().sum()\n",
    "print(f'Número de linhas duplicadas: {num_duplicados}')"
   ]
  },
  {
   "cell_type": "markdown",
   "metadata": {},
   "source": [
    "### Análise dos arquivos e dados"
   ]
  },
  {
   "cell_type": "markdown",
   "metadata": {},
   "source": [
    "<span style=\"font-size:20px; color:#FFDF00; font-weight:bold;\">Analisando distribuição dos dados</span>\n"
   ]
  },
  {
   "cell_type": "markdown",
   "metadata": {},
   "source": [
    "Crie um histograma que ilustre a distribuição das idades dos pacientes empregando 20 barras para a análise. Posteriormente, selecione a opção que melhor se adequa aos dados apresentados."
   ]
  },
  {
   "cell_type": "code",
   "execution_count": 35,
   "metadata": {},
   "outputs": [
    {
     "data": {
      "image/png": "[encoded data removed]",
      "text/plain": [
       "<Figure size 1500x700 with 1 Axes>"
      ]
     },
     "metadata": {},
     "output_type": "display_data"
    }
   ],
   "source": [
    "base_completa.hist(\n",
    "    column='idade',\n",
    "    figsize=(15,7),\n",
    "    bins=20,\n",
    "    edgecolor='black'\n",
    ")\n",
    "\n",
    "plt.style.use('ggplot')\n",
    "plt.xlabel('Idade')\n",
    "plt.ylabel('Quantidade')\n",
    "plt.title('Idade dos pacientes')\n",
    "plt.show()"
   ]
  },
  {
   "cell_type": "markdown",
   "metadata": {},
   "source": [
    "Elabore um gráfico de dispersão que represente a relação entre a idade e os salários de todos os pacientes, agrupados por gênero. No eixo x, represente o salário, enquanto no eixo y, represente a idade. Posteriormente, analise os resultados obtidos e selecione o gráfico que melhor ilustra essa relação."
   ]
  },
  {
   "cell_type": "code",
   "execution_count": 38,
   "metadata": {},
   "outputs": [
    {
     "data": {
      "image/png": "[encoded data removed]",
      "text/plain": [
       "<Figure size 1200x800 with 1 Axes>"
      ]
     },
     "metadata": {},
     "output_type": "display_data"
    }
   ],
   "source": [
    "# Configurando o estilo do gráfico\n",
    "plt.style.use('ggplot')\n",
    "\n",
    "# Criando o gráfico de dispersão\n",
    "plt.figure(figsize=(12, 8))\n",
    "sns.scatterplot(\n",
    "    data=base_completa,\n",
    "    x       = 'salario',\n",
    "    y       = 'idade',\n",
    "    hue     = 'genero',\n",
    "    palette = 'viridis',\n",
    "    s       = 100,\n",
    "    alpha   = 0.7 \n",
    ")\n",
    "\n",
    "# Personalizando o gráfico\n",
    "plt.xlabel('Salário (R$)', fontsize=12)\n",
    "plt.ylabel('Idade', fontsize=12)\n",
    "plt.title('Relação Salário e Idade por gênero', fontsize=14)\n",
    "plt.grid(True, which='both', linestyle='--', linewidth=0.7)\n",
    "\n",
    "# Exibindo o gráfico\n",
    "plt.show()\n"
   ]
  },
  {
   "cell_type": "markdown",
   "metadata": {},
   "source": [
    "Qual é a média salarial para os residentes na região Nordeste?"
   ]
  },
  {
   "cell_type": "code",
   "execution_count": 44,
   "metadata": {},
   "outputs": [
    {
     "name": "stdout",
     "output_type": "stream",
     "text": [
      "Média salarial por região:\n",
      "\n",
      "Região: Centro-Oeste    | Média Salarial: R$ 3,478.51\n",
      "Região: Nordeste        | Média Salarial: R$ 3,434.85\n",
      "Região: Norte           | Média Salarial: R$ 3,452.29\n",
      "Região: Sudeste         | Média Salarial: R$ 2,935.68\n",
      "Região: Sul             | Média Salarial: R$ 3,205.15\n"
     ]
    }
   ],
   "source": [
    "# Calculando a média salarial por região\n",
    "medial_salarial_por_regiao = base_completa.groupby('regiao')['salario'].mean()\n",
    "\n",
    "# Exibe a média salarial para cada região\n",
    "# Exibindo a média salarial formatada\n",
    "print('Média salarial por região:\\n')\n",
    "for regiao, media in medial_salarial_por_regiao.items():\n",
    "    print(f\"Região: {regiao:<15} | Média Salarial: R$ {media:,.2f}\")\n"
   ]
  },
  {
   "cell_type": "code",
   "execution_count": 45,
   "metadata": {},
   "outputs": [
    {
     "name": "stdout",
     "output_type": "stream",
     "text": [
      "\n",
      "Média salarial do nordeste: 3434.85\n"
     ]
    }
   ],
   "source": [
    "# Filtrando o Dataframe para a região Nordeste\n",
    "base_nordeste = base_completa[base_completa['regiao'] == 'Nordeste']\n",
    "media_salarial_nordeste = base_nordeste['salario'].mean()\n",
    "\n",
    "print()\n",
    "print(f'Média salarial do nordeste: {media_salarial_nordeste:.2f}')\n"
   ]
  },
  {
   "cell_type": "markdown",
   "metadata": {},
   "source": [
    "Entre os estados da região Nordeste, qual se destaca pelo maior valor na média das idades?"
   ]
  },
  {
   "cell_type": "code",
   "execution_count": 47,
   "metadata": {},
   "outputs": [
    {
     "name": "stdout",
     "output_type": "stream",
     "text": [
      "O estado que se destaca é o/a Ceará\n"
     ]
    }
   ],
   "source": [
    "# Calculando a média das idades por estado\n",
    "media_idade_por_estado = base_nordeste.groupby('estado')['idade'].mean()\n",
    "\n",
    "# Encontrando o estado com a maior média de idade\n",
    "estado_mais_velho = media_idade_por_estado.idxmax()\n",
    "media_idade_maxima = media_idade_por_estado.max()\n",
    "\n",
    "# Exibindo o resultado\n",
    "print(f'O estado que se destaca é o/a {estado_mais_velho}')"
   ]
  },
  {
   "cell_type": "markdown",
   "metadata": {},
   "source": [
    "Entre todos os estados, qual deles apresenta o maior número de pacientes com grau de escolaridade 'Mestrado'?\""
   ]
  },
  {
   "cell_type": "code",
   "execution_count": 48,
   "metadata": {},
   "outputs": [
    {
     "name": "stdout",
     "output_type": "stream",
     "text": [
      "O estado com o maior número de pacientes com grau de escolaridade 'Mestrado' é Santa Catarina com 5 pacientes.\n"
     ]
    }
   ],
   "source": [
    "# Filtrando o Dataframe para o grau de escolaridade 'Mestrado'\n",
    "base_mestrado = base_completa[base_completa['escolaridade'] == 'Mestrado']\n",
    "\n",
    "# Contando o número de pacientes por estado\n",
    "#contagem_por_estado_BC = base_completa[base_completa['escolaridade'] == 'Mestrado']['estado'].value_counts()\n",
    "contagem_por_estado = base_mestrado['estado'].value_counts()\n",
    "\n",
    "# Encontrando o estado com o maior número de pacientes com mestrado\n",
    "estado_com_mais_mestrados = contagem_por_estado.idxmax()\n",
    "numero_mestrados_maximo = contagem_por_estado.max()\n",
    "\n",
    "# Exibe o resultado\n",
    "print(f'O estado com o maior número de pacientes com grau de escolaridade \\'Mestrado\\' é {estado_com_mais_mestrados} com {numero_mestrados_maximo} pacientes.')"
   ]
  },
  {
   "cell_type": "markdown",
   "metadata": {},
   "source": [
    "Elabore o gráfico de WCSS (Within-Cluster Sum of Squares) com as variáveis peso e colesterol para um conjunto de 10 clusters. Após examinar os dados no gráfico, responda: qual é o valor de WCSS para o cluster de número 3? Leve em consideração apenas os três primeiros dígitos apresentados no gráfico.\n",
    "\n",
    "Além disso, leve em consideração a seguintes configurações:"
   ]
  },
  {
   "cell_type": "code",
   "execution_count": 49,
   "metadata": {},
   "outputs": [],
   "source": [
    "def calcular_wcss(dados_clientes):\n",
    "    wcss=[]\n",
    "    for k in range(1,11):\n",
    "        kmeans = KMeans(\n",
    "            n_clusters= k,\n",
    "            random_state= 42,\n",
    "            init='k-means++',\n",
    "            n_init= 10\n",
    "        )\n",
    "        kmeans.fit(dados_clientes)\n",
    "        wcss.append(kmeans.inertia_)\n",
    "    return wcss"
   ]
  },
  {
   "cell_type": "code",
   "execution_count": 50,
   "metadata": {},
   "outputs": [
    {
     "data": {
      "text/html": [
       "<div>\n",
       "<style scoped>\n",
       "    .dataframe tbody tr th:only-of-type {\n",
       "        vertical-align: middle;\n",
       "    }\n",
       "\n",
       "    .dataframe tbody tr th {\n",
       "        vertical-align: top;\n",
       "    }\n",
       "\n",
       "    .dataframe thead th {\n",
       "        text-align: right;\n",
       "    }\n",
       "</style>\n",
       "<table border=\"1\" class=\"dataframe\">\n",
       "  <thead>\n",
       "    <tr style=\"text-align: right;\">\n",
       "      <th></th>\n",
       "      <th>peso</th>\n",
       "      <th>colesterol</th>\n",
       "    </tr>\n",
       "  </thead>\n",
       "  <tbody>\n",
       "    <tr>\n",
       "      <th>0</th>\n",
       "      <td>102.0</td>\n",
       "      <td>111</td>\n",
       "    </tr>\n",
       "    <tr>\n",
       "      <th>1</th>\n",
       "      <td>115.0</td>\n",
       "      <td>135</td>\n",
       "    </tr>\n",
       "    <tr>\n",
       "      <th>2</th>\n",
       "      <td>115.0</td>\n",
       "      <td>136</td>\n",
       "    </tr>\n",
       "    <tr>\n",
       "      <th>3</th>\n",
       "      <td>140.0</td>\n",
       "      <td>167</td>\n",
       "    </tr>\n",
       "    <tr>\n",
       "      <th>4</th>\n",
       "      <td>130.0</td>\n",
       "      <td>158</td>\n",
       "    </tr>\n",
       "  </tbody>\n",
       "</table>\n",
       "</div>"
      ],
      "text/plain": [
       "    peso  colesterol\n",
       "0  102.0         111\n",
       "1  115.0         135\n",
       "2  115.0         136\n",
       "3  140.0         167\n",
       "4  130.0         158"
      ]
     },
     "execution_count": 50,
     "metadata": {},
     "output_type": "execute_result"
    }
   ],
   "source": [
    "dados_cliente = base_completa[['peso', 'colesterol']]\n",
    "dados_cliente.head()"
   ]
  },
  {
   "cell_type": "code",
   "execution_count": 51,
   "metadata": {},
   "outputs": [],
   "source": [
    "wcss_clientes = calcular_wcss(dados_cliente)"
   ]
  },
  {
   "cell_type": "code",
   "execution_count": 53,
   "metadata": {},
   "outputs": [
    {
     "name": "stdout",
     "output_type": "stream",
     "text": [
      "O valor do wcss é de 1345138.98 no cluster 0\n",
      "O valor do wcss é de 326459.17 no cluster 1\n",
      "O valor do wcss é de 138693.05 no cluster 2\n",
      "O valor do wcss é de 80254.75 no cluster 3\n",
      "O valor do wcss é de 53121.82 no cluster 4\n",
      "O valor do wcss é de 37038.61 no cluster 5\n",
      "O valor do wcss é de 27291.87 no cluster 6\n",
      "O valor do wcss é de 21793.60 no cluster 7\n",
      "O valor do wcss é de 17008.11 no cluster 8\n",
      "O valor do wcss é de 14624.48 no cluster 9\n"
     ]
    }
   ],
   "source": [
    "# Visualizando os dados obtidos no wcss\n",
    "for i in range(len(wcss_clientes)):\n",
    "    print(f'O valor do wcss é de {wcss_clientes[i]:.2f} no cluster {i}')"
   ]
  },
  {
   "cell_type": "markdown",
   "metadata": {},
   "source": [
    "<span style=\"font-size:20px; color:#FFDF00; font-weight:bold;\">Gráfico cotovelo</span>\n"
   ]
  },
  {
   "cell_type": "code",
   "execution_count": 54,
   "metadata": {},
   "outputs": [
    {
     "data": {
      "application/vnd.plotly.v1+json": {
       "config": {
        "plotlyServerURL": "https://plot.ly"
       },
       "data": [
        {
         "hovertemplate": "x=%{x}<br>y=%{y}<extra></extra>",
         "legendgroup": "",
         "line": {
          "color": "#636efa",
          "dash": "solid"
         },
         "marker": {
          "symbol": "circle"
         },
         "mode": "lines",
         "name": "",
         "orientation": "v",
         "showlegend": false,
         "type": "scatter",
         "x": [
          1,
          2,
          3,
          4,
          5,
          6,
          7,
          8,
          9,
          10
         ],
         "xaxis": "x",
         "y": [
          1345138.9833948337,
          326459.16911118437,
          138693.0477412158,
          80254.74760725316,
          53121.81831667357,
          37038.61074842801,
          27291.868887293498,
          21793.5993010678,
          17008.11003408446,
          14624.480762190315
         ],
         "yaxis": "y"
        }
       ],
       "layout": {
        "legend": {
         "tracegroupgap": 0
        },
        "margin": {
         "t": 60
        },
        "template": {
         "data": {
          "bar": [
           {
            "error_x": {
             "color": "#2a3f5f"
            },
            "error_y": {
             "color": "#2a3f5f"
            },
            "marker": {
             "line": {
              "color": "white",
              "width": 0.5
             },
             "pattern": {
              "fillmode": "overlay",
              "size": 10,
              "solidity": 0.2
             }
            },
            "type": "bar"
           }
          ],
          "barpolar": [
           {
            "marker": {
             "line": {
              "color": "white",
              "width": 0.5
             },
             "pattern": {
              "fillmode": "overlay",
              "size": 10,
              "solidity": 0.2
             }
            },
            "type": "barpolar"
           }
          ],
          "carpet": [
           {
            "aaxis": {
             "endlinecolor": "#2a3f5f",
             "gridcolor": "#C8D4E3",
             "linecolor": "#C8D4E3",
             "minorgridcolor": "#C8D4E3",
             "startlinecolor": "#2a3f5f"
            },
            "baxis": {
             "endlinecolor": "#2a3f5f",
             "gridcolor": "#C8D4E3",
             "linecolor": "#C8D4E3",
             "minorgridcolor": "#C8D4E3",
             "startlinecolor": "#2a3f5f"
            },
            "type": "carpet"
           }
          ],
          "choropleth": [
           {
            "colorbar": {
             "outlinewidth": 0,
             "ticks": ""
            },
            "type": "choropleth"
           }
          ],
          "contour": [
           {
            "colorbar": {
             "outlinewidth": 0,
             "ticks": ""
            },
            "colorscale": [
             [
              0,
              "#0d0887"
             ],
             [
              0.1111111111111111,
              "#46039f"
             ],
             [
              0.2222222222222222,
              "#7201a8"
             ],
             [
              0.3333333333333333,
              "#9c179e"
             ],
             [
              0.4444444444444444,
              "#bd3786"
             ],
             [
              0.5555555555555556,
              "#d8576b"
             ],
             [
              0.6666666666666666,
              "#ed7953"
             ],
             [
              0.7777777777777778,
              "#fb9f3a"
             ],
             [
              0.8888888888888888,
              "#fdca26"
             ],
             [
              1,
              "#f0f921"
             ]
            ],
            "type": "contour"
           }
          ],
          "contourcarpet": [
           {
            "colorbar": {
             "outlinewidth": 0,
             "ticks": ""
            },
            "type": "contourcarpet"
           }
          ],
          "heatmap": [
           {
            "colorbar": {
             "outlinewidth": 0,
             "ticks": ""
            },
            "colorscale": [
             [
              0,
              "#0d0887"
             ],
             [
              0.1111111111111111,
              "#46039f"
             ],
             [
              0.2222222222222222,
              "#7201a8"
             ],
             [
              0.3333333333333333,
              "#9c179e"
             ],
             [
              0.4444444444444444,
              "#bd3786"
             ],
             [
              0.5555555555555556,
              "#d8576b"
             ],
             [
              0.6666666666666666,
              "#ed7953"
             ],
             [
              0.7777777777777778,
              "#fb9f3a"
             ],
             [
              0.8888888888888888,
              "#fdca26"
             ],
             [
              1,
              "#f0f921"
             ]
            ],
            "type": "heatmap"
           }
          ],
          "heatmapgl": [
           {
            "colorbar": {
             "outlinewidth": 0,
             "ticks": ""
            },
            "colorscale": [
             [
              0,
              "#0d0887"
             ],
             [
              0.1111111111111111,
              "#46039f"
             ],
             [
              0.2222222222222222,
              "#7201a8"
             ],
             [
              0.3333333333333333,
              "#9c179e"
             ],
             [
              0.4444444444444444,
              "#bd3786"
             ],
             [
              0.5555555555555556,
              "#d8576b"
             ],
             [
              0.6666666666666666,
              "#ed7953"
             ],
             [
              0.7777777777777778,
              "#fb9f3a"
             ],
             [
              0.8888888888888888,
              "#fdca26"
             ],
             [
              1,
              "#f0f921"
             ]
            ],
            "type": "heatmapgl"
           }
          ],
          "histogram": [
           {
            "marker": {
             "pattern": {
              "fillmode": "overlay",
              "size": 10,
              "solidity": 0.2
             }
            },
            "type": "histogram"
           }
          ],
          "histogram2d": [
           {
            "colorbar": {
             "outlinewidth": 0,
             "ticks": ""
            },
            "colorscale": [
             [
              0,
              "#0d0887"
             ],
             [
              0.1111111111111111,
              "#46039f"
             ],
             [
              0.2222222222222222,
              "#7201a8"
             ],
             [
              0.3333333333333333,
              "#9c179e"
             ],
             [
              0.4444444444444444,
              "#bd3786"
             ],
             [
              0.5555555555555556,
              "#d8576b"
             ],
             [
              0.6666666666666666,
              "#ed7953"
             ],
             [
              0.7777777777777778,
              "#fb9f3a"
             ],
             [
              0.8888888888888888,
              "#fdca26"
             ],
             [
              1,
              "#f0f921"
             ]
            ],
            "type": "histogram2d"
           }
          ],
          "histogram2dcontour": [
           {
            "colorbar": {
             "outlinewidth": 0,
             "ticks": ""
            },
            "colorscale": [
             [
              0,
              "#0d0887"
             ],
             [
              0.1111111111111111,
              "#46039f"
             ],
             [
              0.2222222222222222,
              "#7201a8"
             ],
             [
              0.3333333333333333,
              "#9c179e"
             ],
             [
              0.4444444444444444,
              "#bd3786"
             ],
             [
              0.5555555555555556,
              "#d8576b"
             ],
             [
              0.6666666666666666,
              "#ed7953"
             ],
             [
              0.7777777777777778,
              "#fb9f3a"
             ],
             [
              0.8888888888888888,
              "#fdca26"
             ],
             [
              1,
              "#f0f921"
             ]
            ],
            "type": "histogram2dcontour"
           }
          ],
          "mesh3d": [
           {
            "colorbar": {
             "outlinewidth": 0,
             "ticks": ""
            },
            "type": "mesh3d"
           }
          ],
          "parcoords": [
           {
            "line": {
             "colorbar": {
              "outlinewidth": 0,
              "ticks": ""
             }
            },
            "type": "parcoords"
           }
          ],
          "pie": [
           {
            "automargin": true,
            "type": "pie"
           }
          ],
          "scatter": [
           {
            "fillpattern": {
             "fillmode": "overlay",
             "size": 10,
             "solidity": 0.2
            },
            "type": "scatter"
           }
          ],
          "scatter3d": [
           {
            "line": {
             "colorbar": {
              "outlinewidth": 0,
              "ticks": ""
             }
            },
            "marker": {
             "colorbar": {
              "outlinewidth": 0,
              "ticks": ""
             }
            },
            "type": "scatter3d"
           }
          ],
          "scattercarpet": [
           {
            "marker": {
             "colorbar": {
              "outlinewidth": 0,
              "ticks": ""
             }
            },
            "type": "scattercarpet"
           }
          ],
          "scattergeo": [
           {
            "marker": {
             "colorbar": {
              "outlinewidth": 0,
              "ticks": ""
             }
            },
            "type": "scattergeo"
           }
          ],
          "scattergl": [
           {
            "marker": {
             "colorbar": {
              "outlinewidth": 0,
              "ticks": ""
             }
            },
            "type": "scattergl"
           }
          ],
          "scattermapbox": [
           {
            "marker": {
             "colorbar": {
              "outlinewidth": 0,
              "ticks": ""
             }
            },
            "type": "scattermapbox"
           }
          ],
          "scatterpolar": [
           {
            "marker": {
             "colorbar": {
              "outlinewidth": 0,
              "ticks": ""
             }
            },
            "type": "scatterpolar"
           }
          ],
          "scatterpolargl": [
           {
            "marker": {
             "colorbar": {
              "outlinewidth": 0,
              "ticks": ""
             }
            },
            "type": "scatterpolargl"
           }
          ],
          "scatterternary": [
           {
            "marker": {
             "colorbar": {
              "outlinewidth": 0,
              "ticks": ""
             }
            },
            "type": "scatterternary"
           }
          ],
          "surface": [
           {
            "colorbar": {
             "outlinewidth": 0,
             "ticks": ""
            },
            "colorscale": [
             [
              0,
              "#0d0887"
             ],
             [
              0.1111111111111111,
              "#46039f"
             ],
             [
              0.2222222222222222,
              "#7201a8"
             ],
             [
              0.3333333333333333,
              "#9c179e"
             ],
             [
              0.4444444444444444,
              "#bd3786"
             ],
             [
              0.5555555555555556,
              "#d8576b"
             ],
             [
              0.6666666666666666,
              "#ed7953"
             ],
             [
              0.7777777777777778,
              "#fb9f3a"
             ],
             [
              0.8888888888888888,
              "#fdca26"
             ],
             [
              1,
              "#f0f921"
             ]
            ],
            "type": "surface"
           }
          ],
          "table": [
           {
            "cells": {
             "fill": {
              "color": "#EBF0F8"
             },
             "line": {
              "color": "white"
             }
            },
            "header": {
             "fill": {
              "color": "#C8D4E3"
             },
             "line": {
              "color": "white"
             }
            },
            "type": "table"
           }
          ]
         },
         "layout": {
          "annotationdefaults": {
           "arrowcolor": "#2a3f5f",
           "arrowhead": 0,
           "arrowwidth": 1
          },
          "autotypenumbers": "strict",
          "coloraxis": {
           "colorbar": {
            "outlinewidth": 0,
            "ticks": ""
           }
          },
          "colorscale": {
           "diverging": [
            [
             0,
             "#8e0152"
            ],
            [
             0.1,
             "#c51b7d"
            ],
            [
             0.2,
             "#de77ae"
            ],
            [
             0.3,
             "#f1b6da"
            ],
            [
             0.4,
             "#fde0ef"
            ],
            [
             0.5,
             "#f7f7f7"
            ],
            [
             0.6,
             "#e6f5d0"
            ],
            [
             0.7,
             "#b8e186"
            ],
            [
             0.8,
             "#7fbc41"
            ],
            [
             0.9,
             "#4d9221"
            ],
            [
             1,
             "#276419"
            ]
           ],
           "sequential": [
            [
             0,
             "#0d0887"
            ],
            [
             0.1111111111111111,
             "#46039f"
            ],
            [
             0.2222222222222222,
             "#7201a8"
            ],
            [
             0.3333333333333333,
             "#9c179e"
            ],
            [
             0.4444444444444444,
             "#bd3786"
            ],
            [
             0.5555555555555556,
             "#d8576b"
            ],
            [
             0.6666666666666666,
             "#ed7953"
            ],
            [
             0.7777777777777778,
             "#fb9f3a"
            ],
            [
             0.8888888888888888,
             "#fdca26"
            ],
            [
             1,
             "#f0f921"
            ]
           ],
           "sequentialminus": [
            [
             0,
             "#0d0887"
            ],
            [
             0.1111111111111111,
             "#46039f"
            ],
            [
             0.2222222222222222,
             "#7201a8"
            ],
            [
             0.3333333333333333,
             "#9c179e"
            ],
            [
             0.4444444444444444,
             "#bd3786"
            ],
            [
             0.5555555555555556,
             "#d8576b"
            ],
            [
             0.6666666666666666,
             "#ed7953"
            ],
            [
             0.7777777777777778,
             "#fb9f3a"
            ],
            [
             0.8888888888888888,
             "#fdca26"
            ],
            [
             1,
             "#f0f921"
            ]
           ]
          },
          "colorway": [
           "#636efa",
           "#EF553B",
           "#00cc96",
           "#ab63fa",
           "#FFA15A",
           "#19d3f3",
           "#FF6692",
           "#B6E880",
           "#FF97FF",
           "#FECB52"
          ],
          "font": {
           "color": "#2a3f5f"
          },
          "geo": {
           "bgcolor": "white",
           "lakecolor": "white",
           "landcolor": "white",
           "showlakes": true,
           "showland": true,
           "subunitcolor": "#C8D4E3"
          },
          "hoverlabel": {
           "align": "left"
          },
          "hovermode": "closest",
          "mapbox": {
           "style": "light"
          },
          "paper_bgcolor": "white",
          "plot_bgcolor": "white",
          "polar": {
           "angularaxis": {
            "gridcolor": "#EBF0F8",
            "linecolor": "#EBF0F8",
            "ticks": ""
           },
           "bgcolor": "white",
           "radialaxis": {
            "gridcolor": "#EBF0F8",
            "linecolor": "#EBF0F8",
            "ticks": ""
           }
          },
          "scene": {
           "xaxis": {
            "backgroundcolor": "white",
            "gridcolor": "#DFE8F3",
            "gridwidth": 2,
            "linecolor": "#EBF0F8",
            "showbackground": true,
            "ticks": "",
            "zerolinecolor": "#EBF0F8"
           },
           "yaxis": {
            "backgroundcolor": "white",
            "gridcolor": "#DFE8F3",
            "gridwidth": 2,
            "linecolor": "#EBF0F8",
            "showbackground": true,
            "ticks": "",
            "zerolinecolor": "#EBF0F8"
           },
           "zaxis": {
            "backgroundcolor": "white",
            "gridcolor": "#DFE8F3",
            "gridwidth": 2,
            "linecolor": "#EBF0F8",
            "showbackground": true,
            "ticks": "",
            "zerolinecolor": "#EBF0F8"
           }
          },
          "shapedefaults": {
           "line": {
            "color": "#2a3f5f"
           }
          },
          "ternary": {
           "aaxis": {
            "gridcolor": "#DFE8F3",
            "linecolor": "#A2B1C6",
            "ticks": ""
           },
           "baxis": {
            "gridcolor": "#DFE8F3",
            "linecolor": "#A2B1C6",
            "ticks": ""
           },
           "bgcolor": "white",
           "caxis": {
            "gridcolor": "#DFE8F3",
            "linecolor": "#A2B1C6",
            "ticks": ""
           }
          },
          "title": {
           "x": 0.05
          },
          "xaxis": {
           "automargin": true,
           "gridcolor": "#EBF0F8",
           "linecolor": "#EBF0F8",
           "ticks": "",
           "title": {
            "standoff": 15
           },
           "zerolinecolor": "#EBF0F8",
           "zerolinewidth": 2
          },
          "yaxis": {
           "automargin": true,
           "gridcolor": "#EBF0F8",
           "linecolor": "#EBF0F8",
           "ticks": "",
           "title": {
            "standoff": 15
           },
           "zerolinecolor": "#EBF0F8",
           "zerolinewidth": 2
          }
         }
        },
        "title": {
         "text": "Calculando o WCSS"
        },
        "xaxis": {
         "anchor": "y",
         "domain": [
          0,
          1
         ],
         "title": {
          "text": "Número de Clusters"
         }
        },
        "yaxis": {
         "anchor": "x",
         "domain": [
          0,
          1
         ],
         "title": {
          "text": "Valor do WCSS"
         }
        }
       }
      }
     },
     "metadata": {},
     "output_type": "display_data"
    }
   ],
   "source": [
    "grafico_wcss = px.line(\n",
    "    x = range(1,11),\n",
    "    y = wcss_clientes\n",
    ")\n",
    "\n",
    "fig = go.Figure(grafico_wcss)\n",
    "\n",
    "fig.update_layout(\n",
    "    title = 'Calculando o WCSS',\n",
    "    xaxis_title = 'Número de Clusters',\n",
    "    yaxis_title = 'Valor do WCSS',\n",
    "    template = 'plotly_white'\n",
    ")\n",
    "\n",
    "fig.show()"
   ]
  },
  {
   "cell_type": "markdown",
   "metadata": {},
   "source": [
    "Produza uma representação gráfica da formação de 3 clusters com base no peso e colesterol dos clientes nos eixos x e y, respectivamente. Posteriormente, selecione a imagem que melhor reflete esse agrupamento. Utilize as configurações conforme a imagem."
   ]
  },
  {
   "cell_type": "code",
   "execution_count": 55,
   "metadata": {},
   "outputs": [],
   "source": [
    "kmeans_paciente = KMeans(\n",
    "    n_clusters= 3,\n",
    "    random_state= 42,\n",
    "    init='k-means++',\n",
    "    n_init= 10\n",
    ")"
   ]
  },
  {
   "cell_type": "code",
   "execution_count": 56,
   "metadata": {},
   "outputs": [
    {
     "data": {
      "text/html": [
       "<style>#sk-container-id-1 {\n",
       "  /* Definition of color scheme common for light and dark mode */\n",
       "  --sklearn-color-text: black;\n",
       "  --sklearn-color-line: gray;\n",
       "  /* Definition of color scheme for unfitted estimators */\n",
       "  --sklearn-color-unfitted-level-0: #fff5e6;\n",
       "  --sklearn-color-unfitted-level-1: #f6e4d2;\n",
       "  --sklearn-color-unfitted-level-2: #ffe0b3;\n",
       "  --sklearn-color-unfitted-level-3: chocolate;\n",
       "  /* Definition of color scheme for fitted estimators */\n",
       "  --sklearn-color-fitted-level-0: #f0f8ff;\n",
       "  --sklearn-color-fitted-level-1: #d4ebff;\n",
       "  --sklearn-color-fitted-level-2: #b3dbfd;\n",
       "  --sklearn-color-fitted-level-3: cornflowerblue;\n",
       "\n",
       "  /* Specific color for light theme */\n",
       "  --sklearn-color-text-on-default-background: var(--sg-text-color, var(--theme-code-foreground, var(--jp-content-font-color1, black)));\n",
       "  --sklearn-color-background: var(--sg-background-color, var(--theme-background, var(--jp-layout-color0, white)));\n",
       "  --sklearn-color-border-box: var(--sg-text-color, var(--theme-code-foreground, var(--jp-content-font-color1, black)));\n",
       "  --sklearn-color-icon: #696969;\n",
       "\n",
       "  @media (prefers-color-scheme: dark) {\n",
       "    /* Redefinition of color scheme for dark theme */\n",
       "    --sklearn-color-text-on-default-background: var(--sg-text-color, var(--theme-code-foreground, var(--jp-content-font-color1, white)));\n",
       "    --sklearn-color-background: var(--sg-background-color, var(--theme-background, var(--jp-layout-color0, #111)));\n",
       "    --sklearn-color-border-box: var(--sg-text-color, var(--theme-code-foreground, var(--jp-content-font-color1, white)));\n",
       "    --sklearn-color-icon: #878787;\n",
       "  }\n",
       "}\n",
       "\n",
       "#sk-container-id-1 {\n",
       "  color: var(--sklearn-color-text);\n",
       "}\n",
       "\n",
       "#sk-container-id-1 pre {\n",
       "  padding: 0;\n",
       "}\n",
       "\n",
       "#sk-container-id-1 input.sk-hidden--visually {\n",
       "  border: 0;\n",
       "  clip: rect(1px 1px 1px 1px);\n",
       "  clip: rect(1px, 1px, 1px, 1px);\n",
       "  height: 1px;\n",
       "  margin: -1px;\n",
       "  overflow: hidden;\n",
       "  padding: 0;\n",
       "  position: absolute;\n",
       "  width: 1px;\n",
       "}\n",
       "\n",
       "#sk-container-id-1 div.sk-dashed-wrapped {\n",
       "  border: 1px dashed var(--sklearn-color-line);\n",
       "  margin: 0 0.4em 0.5em 0.4em;\n",
       "  box-sizing: border-box;\n",
       "  padding-bottom: 0.4em;\n",
       "  background-color: var(--sklearn-color-background);\n",
       "}\n",
       "\n",
       "#sk-container-id-1 div.sk-container {\n",
       "  /* jupyter's `normalize.less` sets `[hidden] { display: none; }`\n",
       "     but bootstrap.min.css set `[hidden] { display: none !important; }`\n",
       "     so we also need the `!important` here to be able to override the\n",
       "     default hidden behavior on the sphinx rendered scikit-learn.org.\n",
       "     See: https://github.com/scikit-learn/scikit-learn/issues/21755 */\n",
       "  display: inline-block !important;\n",
       "  position: relative;\n",
       "}\n",
       "\n",
       "#sk-container-id-1 div.sk-text-repr-fallback {\n",
       "  display: none;\n",
       "}\n",
       "\n",
       "div.sk-parallel-item,\n",
       "div.sk-serial,\n",
       "div.sk-item {\n",
       "  /* draw centered vertical line to link estimators */\n",
       "  background-image: linear-gradient(var(--sklearn-color-text-on-default-background), var(--sklearn-color-text-on-default-background));\n",
       "  background-size: 2px 100%;\n",
       "  background-repeat: no-repeat;\n",
       "  background-position: center center;\n",
       "}\n",
       "\n",
       "/* Parallel-specific style estimator block */\n",
       "\n",
       "#sk-container-id-1 div.sk-parallel-item::after {\n",
       "  content: \"\";\n",
       "  width: 100%;\n",
       "  border-bottom: 2px solid var(--sklearn-color-text-on-default-background);\n",
       "  flex-grow: 1;\n",
       "}\n",
       "\n",
       "#sk-container-id-1 div.sk-parallel {\n",
       "  display: flex;\n",
       "  align-items: stretch;\n",
       "  justify-content: center;\n",
       "  background-color: var(--sklearn-color-background);\n",
       "  position: relative;\n",
       "}\n",
       "\n",
       "#sk-container-id-1 div.sk-parallel-item {\n",
       "  display: flex;\n",
       "  flex-direction: column;\n",
       "}\n",
       "\n",
       "#sk-container-id-1 div.sk-parallel-item:first-child::after {\n",
       "  align-self: flex-end;\n",
       "  width: 50%;\n",
       "}\n",
       "\n",
       "#sk-container-id-1 div.sk-parallel-item:last-child::after {\n",
       "  align-self: flex-start;\n",
       "  width: 50%;\n",
       "}\n",
       "\n",
       "#sk-container-id-1 div.sk-parallel-item:only-child::after {\n",
       "  width: 0;\n",
       "}\n",
       "\n",
       "/* Serial-specific style estimator block */\n",
       "\n",
       "#sk-container-id-1 div.sk-serial {\n",
       "  display: flex;\n",
       "  flex-direction: column;\n",
       "  align-items: center;\n",
       "  background-color: var(--sklearn-color-background);\n",
       "  padding-right: 1em;\n",
       "  padding-left: 1em;\n",
       "}\n",
       "\n",
       "\n",
       "/* Toggleable style: style used for estimator/Pipeline/ColumnTransformer box that is\n",
       "clickable and can be expanded/collapsed.\n",
       "- Pipeline and ColumnTransformer use this feature and define the default style\n",
       "- Estimators will overwrite some part of the style using the `sk-estimator` class\n",
       "*/\n",
       "\n",
       "/* Pipeline and ColumnTransformer style (default) */\n",
       "\n",
       "#sk-container-id-1 div.sk-toggleable {\n",
       "  /* Default theme specific background. It is overwritten whether we have a\n",
       "  specific estimator or a Pipeline/ColumnTransformer */\n",
       "  background-color: var(--sklearn-color-background);\n",
       "}\n",
       "\n",
       "/* Toggleable label */\n",
       "#sk-container-id-1 label.sk-toggleable__label {\n",
       "  cursor: pointer;\n",
       "  display: block;\n",
       "  width: 100%;\n",
       "  margin-bottom: 0;\n",
       "  padding: 0.5em;\n",
       "  box-sizing: border-box;\n",
       "  text-align: center;\n",
       "}\n",
       "\n",
       "#sk-container-id-1 label.sk-toggleable__label-arrow:before {\n",
       "  /* Arrow on the left of the label */\n",
       "  content: \"▸\";\n",
       "  float: left;\n",
       "  margin-right: 0.25em;\n",
       "  color: var(--sklearn-color-icon);\n",
       "}\n",
       "\n",
       "#sk-container-id-1 label.sk-toggleable__label-arrow:hover:before {\n",
       "  color: var(--sklearn-color-text);\n",
       "}\n",
       "\n",
       "/* Toggleable content - dropdown */\n",
       "\n",
       "#sk-container-id-1 div.sk-toggleable__content {\n",
       "  max-height: 0;\n",
       "  max-width: 0;\n",
       "  overflow: hidden;\n",
       "  text-align: left;\n",
       "  /* unfitted */\n",
       "  background-color: var(--sklearn-color-unfitted-level-0);\n",
       "}\n",
       "\n",
       "#sk-container-id-1 div.sk-toggleable__content.fitted {\n",
       "  /* fitted */\n",
       "  background-color: var(--sklearn-color-fitted-level-0);\n",
       "}\n",
       "\n",
       "#sk-container-id-1 div.sk-toggleable__content pre {\n",
       "  margin: 0.2em;\n",
       "  border-radius: 0.25em;\n",
       "  color: var(--sklearn-color-text);\n",
       "  /* unfitted */\n",
       "  background-color: var(--sklearn-color-unfitted-level-0);\n",
       "}\n",
       "\n",
       "#sk-container-id-1 div.sk-toggleable__content.fitted pre {\n",
       "  /* unfitted */\n",
       "  background-color: var(--sklearn-color-fitted-level-0);\n",
       "}\n",
       "\n",
       "#sk-container-id-1 input.sk-toggleable__control:checked~div.sk-toggleable__content {\n",
       "  /* Expand drop-down */\n",
       "  max-height: 200px;\n",
       "  max-width: 100%;\n",
       "  overflow: auto;\n",
       "}\n",
       "\n",
       "#sk-container-id-1 input.sk-toggleable__control:checked~label.sk-toggleable__label-arrow:before {\n",
       "  content: \"▾\";\n",
       "}\n",
       "\n",
       "/* Pipeline/ColumnTransformer-specific style */\n",
       "\n",
       "#sk-container-id-1 div.sk-label input.sk-toggleable__control:checked~label.sk-toggleable__label {\n",
       "  color: var(--sklearn-color-text);\n",
       "  background-color: var(--sklearn-color-unfitted-level-2);\n",
       "}\n",
       "\n",
       "#sk-container-id-1 div.sk-label.fitted input.sk-toggleable__control:checked~label.sk-toggleable__label {\n",
       "  background-color: var(--sklearn-color-fitted-level-2);\n",
       "}\n",
       "\n",
       "/* Estimator-specific style */\n",
       "\n",
       "/* Colorize estimator box */\n",
       "#sk-container-id-1 div.sk-estimator input.sk-toggleable__control:checked~label.sk-toggleable__label {\n",
       "  /* unfitted */\n",
       "  background-color: var(--sklearn-color-unfitted-level-2);\n",
       "}\n",
       "\n",
       "#sk-container-id-1 div.sk-estimator.fitted input.sk-toggleable__control:checked~label.sk-toggleable__label {\n",
       "  /* fitted */\n",
       "  background-color: var(--sklearn-color-fitted-level-2);\n",
       "}\n",
       "\n",
       "#sk-container-id-1 div.sk-label label.sk-toggleable__label,\n",
       "#sk-container-id-1 div.sk-label label {\n",
       "  /* The background is the default theme color */\n",
       "  color: var(--sklearn-color-text-on-default-background);\n",
       "}\n",
       "\n",
       "/* On hover, darken the color of the background */\n",
       "#sk-container-id-1 div.sk-label:hover label.sk-toggleable__label {\n",
       "  color: var(--sklearn-color-text);\n",
       "  background-color: var(--sklearn-color-unfitted-level-2);\n",
       "}\n",
       "\n",
       "/* Label box, darken color on hover, fitted */\n",
       "#sk-container-id-1 div.sk-label.fitted:hover label.sk-toggleable__label.fitted {\n",
       "  color: var(--sklearn-color-text);\n",
       "  background-color: var(--sklearn-color-fitted-level-2);\n",
       "}\n",
       "\n",
       "/* Estimator label */\n",
       "\n",
       "#sk-container-id-1 div.sk-label label {\n",
       "  font-family: monospace;\n",
       "  font-weight: bold;\n",
       "  display: inline-block;\n",
       "  line-height: 1.2em;\n",
       "}\n",
       "\n",
       "#sk-container-id-1 div.sk-label-container {\n",
       "  text-align: center;\n",
       "}\n",
       "\n",
       "/* Estimator-specific */\n",
       "#sk-container-id-1 div.sk-estimator {\n",
       "  font-family: monospace;\n",
       "  border: 1px dotted var(--sklearn-color-border-box);\n",
       "  border-radius: 0.25em;\n",
       "  box-sizing: border-box;\n",
       "  margin-bottom: 0.5em;\n",
       "  /* unfitted */\n",
       "  background-color: var(--sklearn-color-unfitted-level-0);\n",
       "}\n",
       "\n",
       "#sk-container-id-1 div.sk-estimator.fitted {\n",
       "  /* fitted */\n",
       "  background-color: var(--sklearn-color-fitted-level-0);\n",
       "}\n",
       "\n",
       "/* on hover */\n",
       "#sk-container-id-1 div.sk-estimator:hover {\n",
       "  /* unfitted */\n",
       "  background-color: var(--sklearn-color-unfitted-level-2);\n",
       "}\n",
       "\n",
       "#sk-container-id-1 div.sk-estimator.fitted:hover {\n",
       "  /* fitted */\n",
       "  background-color: var(--sklearn-color-fitted-level-2);\n",
       "}\n",
       "\n",
       "/* Specification for estimator info (e.g. \"i\" and \"?\") */\n",
       "\n",
       "/* Common style for \"i\" and \"?\" */\n",
       "\n",
       ".sk-estimator-doc-link,\n",
       "a:link.sk-estimator-doc-link,\n",
       "a:visited.sk-estimator-doc-link {\n",
       "  float: right;\n",
       "  font-size: smaller;\n",
       "  line-height: 1em;\n",
       "  font-family: monospace;\n",
       "  background-color: var(--sklearn-color-background);\n",
       "  border-radius: 1em;\n",
       "  height: 1em;\n",
       "  width: 1em;\n",
       "  text-decoration: none !important;\n",
       "  margin-left: 1ex;\n",
       "  /* unfitted */\n",
       "  border: var(--sklearn-color-unfitted-level-1) 1pt solid;\n",
       "  color: var(--sklearn-color-unfitted-level-1);\n",
       "}\n",
       "\n",
       ".sk-estimator-doc-link.fitted,\n",
       "a:link.sk-estimator-doc-link.fitted,\n",
       "a:visited.sk-estimator-doc-link.fitted {\n",
       "  /* fitted */\n",
       "  border: var(--sklearn-color-fitted-level-1) 1pt solid;\n",
       "  color: var(--sklearn-color-fitted-level-1);\n",
       "}\n",
       "\n",
       "/* On hover */\n",
       "div.sk-estimator:hover .sk-estimator-doc-link:hover,\n",
       ".sk-estimator-doc-link:hover,\n",
       "div.sk-label-container:hover .sk-estimator-doc-link:hover,\n",
       ".sk-estimator-doc-link:hover {\n",
       "  /* unfitted */\n",
       "  background-color: var(--sklearn-color-unfitted-level-3);\n",
       "  color: var(--sklearn-color-background);\n",
       "  text-decoration: none;\n",
       "}\n",
       "\n",
       "div.sk-estimator.fitted:hover .sk-estimator-doc-link.fitted:hover,\n",
       ".sk-estimator-doc-link.fitted:hover,\n",
       "div.sk-label-container:hover .sk-estimator-doc-link.fitted:hover,\n",
       ".sk-estimator-doc-link.fitted:hover {\n",
       "  /* fitted */\n",
       "  background-color: var(--sklearn-color-fitted-level-3);\n",
       "  color: var(--sklearn-color-background);\n",
       "  text-decoration: none;\n",
       "}\n",
       "\n",
       "/* Span, style for the box shown on hovering the info icon */\n",
       ".sk-estimator-doc-link span {\n",
       "  display: none;\n",
       "  z-index: 9999;\n",
       "  position: relative;\n",
       "  font-weight: normal;\n",
       "  right: .2ex;\n",
       "  padding: .5ex;\n",
       "  margin: .5ex;\n",
       "  width: min-content;\n",
       "  min-width: 20ex;\n",
       "  max-width: 50ex;\n",
       "  color: var(--sklearn-color-text);\n",
       "  box-shadow: 2pt 2pt 4pt #999;\n",
       "  /* unfitted */\n",
       "  background: var(--sklearn-color-unfitted-level-0);\n",
       "  border: .5pt solid var(--sklearn-color-unfitted-level-3);\n",
       "}\n",
       "\n",
       ".sk-estimator-doc-link.fitted span {\n",
       "  /* fitted */\n",
       "  background: var(--sklearn-color-fitted-level-0);\n",
       "  border: var(--sklearn-color-fitted-level-3);\n",
       "}\n",
       "\n",
       ".sk-estimator-doc-link:hover span {\n",
       "  display: block;\n",
       "}\n",
       "\n",
       "/* \"?\"-specific style due to the `<a>` HTML tag */\n",
       "\n",
       "#sk-container-id-1 a.estimator_doc_link {\n",
       "  float: right;\n",
       "  font-size: 1rem;\n",
       "  line-height: 1em;\n",
       "  font-family: monospace;\n",
       "  background-color: var(--sklearn-color-background);\n",
       "  border-radius: 1rem;\n",
       "  height: 1rem;\n",
       "  width: 1rem;\n",
       "  text-decoration: none;\n",
       "  /* unfitted */\n",
       "  color: var(--sklearn-color-unfitted-level-1);\n",
       "  border: var(--sklearn-color-unfitted-level-1) 1pt solid;\n",
       "}\n",
       "\n",
       "#sk-container-id-1 a.estimator_doc_link.fitted {\n",
       "  /* fitted */\n",
       "  border: var(--sklearn-color-fitted-level-1) 1pt solid;\n",
       "  color: var(--sklearn-color-fitted-level-1);\n",
       "}\n",
       "\n",
       "/* On hover */\n",
       "#sk-container-id-1 a.estimator_doc_link:hover {\n",
       "  /* unfitted */\n",
       "  background-color: var(--sklearn-color-unfitted-level-3);\n",
       "  color: var(--sklearn-color-background);\n",
       "  text-decoration: none;\n",
       "}\n",
       "\n",
       "#sk-container-id-1 a.estimator_doc_link.fitted:hover {\n",
       "  /* fitted */\n",
       "  background-color: var(--sklearn-color-fitted-level-3);\n",
       "}\n",
       "</style><div id=\"sk-container-id-1\" class=\"sk-top-container\"><div class=\"sk-text-repr-fallback\"><pre>KMeans(n_clusters=3, n_init=10, random_state=42)</pre><b>In a Jupyter environment, please rerun this cell to show the HTML representation or trust the notebook. <br />On GitHub, the HTML representation is unable to render, please try loading this page with nbviewer.org.</b></div><div class=\"sk-container\" hidden><div class=\"sk-item\"><div class=\"sk-estimator fitted sk-toggleable\"><input class=\"sk-toggleable__control sk-hidden--visually\" id=\"sk-estimator-id-1\" type=\"checkbox\" checked><label for=\"sk-estimator-id-1\" class=\"sk-toggleable__label fitted sk-toggleable__label-arrow fitted\">&nbsp;&nbsp;KMeans<a class=\"sk-estimator-doc-link fitted\" rel=\"noreferrer\" target=\"_blank\" href=\"https://scikit-learn.org/1.5/modules/generated/sklearn.cluster.KMeans.html\">?<span>Documentation for KMeans</span></a><span class=\"sk-estimator-doc-link fitted\">i<span>Fitted</span></span></label><div class=\"sk-toggleable__content fitted\"><pre>KMeans(n_clusters=3, n_init=10, random_state=42)</pre></div> </div></div></div></div>"
      ],
      "text/plain": [
       "KMeans(n_clusters=3, n_init=10, random_state=42)"
      ]
     },
     "execution_count": 56,
     "metadata": {},
     "output_type": "execute_result"
    }
   ],
   "source": [
    "# Ajustando o modelo aos dados\n",
    "kmeans_paciente.fit(dados_cliente)"
   ]
  },
  {
   "cell_type": "code",
   "execution_count": 57,
   "metadata": {},
   "outputs": [],
   "source": [
    "# Adicionando os labels ao Dataframe original\n",
    "base_completa['cluster'] = kmeans_paciente.fit_predict(dados_cliente)"
   ]
  },
  {
   "cell_type": "markdown",
   "metadata": {},
   "source": [
    "<span style=\"font-size:20px; color:#FFDF00; font-weight:bold;\">Visualizando os Clusters</span>\n"
   ]
  },
  {
   "cell_type": "code",
   "execution_count": 58,
   "metadata": {},
   "outputs": [
    {
     "data": {
      "image/png": "[encoded data removed]",
      "text/plain": [
       "<Figure size 1000x600 with 2 Axes>"
      ]
     },
     "metadata": {},
     "output_type": "display_data"
    }
   ],
   "source": [
    "# Visualizando os clusters\n",
    "plt.figure(figsize=(10,6))\n",
    "plt.scatter(\n",
    "    dados_cliente['peso'],\n",
    "    dados_cliente['colesterol'],\n",
    "    c = kmeans_paciente.labels_,\n",
    "    cmap= 'viridis'\n",
    ")\n",
    "\n",
    "plt.xlabel('Peso')\n",
    "plt.ylabel('Colesterol')\n",
    "plt.title('Clusters de cliente com base no Peso e Colesterol')\n",
    "plt.colorbar(label='Cluster')\n",
    "plt.show()"
   ]
  },
  {
   "cell_type": "markdown",
   "metadata": {},
   "source": [
    "<span style=\"font-size:20px; color:#FFDF00; font-weight:bold;\">Centróides</span>\n"
   ]
  },
  {
   "cell_type": "code",
   "execution_count": 59,
   "metadata": {},
   "outputs": [],
   "source": [
    "# Obtendo os centróides dos clusters\n",
    "centroides = kmeans_paciente.cluster_centers_"
   ]
  },
  {
   "cell_type": "code",
   "execution_count": 60,
   "metadata": {},
   "outputs": [
    {
     "name": "stdout",
     "output_type": "stream",
     "text": [
      "Centróides dos Clusters:\n",
      "[[110.32804233 125.75661376]\n",
      " [182.18934911 217.        ]\n",
      " [141.86413043 173.10326087]]\n"
     ]
    }
   ],
   "source": [
    "# Exibindo os centróides\n",
    "print('Centróides dos Clusters:')\n",
    "print(centroides)"
   ]
  },
  {
   "cell_type": "code",
   "execution_count": 61,
   "metadata": {},
   "outputs": [
    {
     "data": {
      "image/png": "[encoded data removed]",
      "text/plain": [
       "<Figure size 1000x600 with 2 Axes>"
      ]
     },
     "metadata": {},
     "output_type": "display_data"
    }
   ],
   "source": [
    "# Visualizando os clusters\n",
    "plt.figure(figsize=(10,6))\n",
    "plt.scatter(\n",
    "    dados_cliente['peso'],\n",
    "    dados_cliente['colesterol'],\n",
    "    c=kmeans_paciente.labels_,\n",
    "    cmap='viridis'\n",
    ")\n",
    "\n",
    "# Adicionando os centróides ao gráfico\n",
    "plt.scatter(\n",
    "    centroides[:, 0],  # Coordenadas x (Peso)\n",
    "    centroides[:, 1],  # Coordenadas y (Colesterol)\n",
    "    s=200,             # Tamanho dos pontos dos centróides\n",
    "    c='red',           # Cor dos centróides\n",
    "    marker='X',        # Formato do marcador\n",
    "    edgecolor='black', # Cor da borda dos centróides\n",
    "    label='Centróides'\n",
    ")\n",
    "\n",
    "# Personalizando o gráfico\n",
    "plt.xlabel('Peso')\n",
    "plt.ylabel('Colesterol')\n",
    "plt.title('Clusters de cliente com base no Peso e Colesterol')\n",
    "plt.colorbar(label='Cluster')\n",
    "plt.legend()  # Mostra a legenda com os centróides\n",
    "plt.grid(True)\n",
    "\n",
    "# Exibe o gráfico\n",
    "plt.show()\n"
   ]
  },
  {
   "cell_type": "markdown",
   "metadata": {},
   "source": [
    "<span style=\"font-size:20px; color:#FFDF00; font-weight:bold;\">Gráfico Interativo com os centróides</span>\n"
   ]
  },
  {
   "cell_type": "code",
   "execution_count": 63,
   "metadata": {},
   "outputs": [
    {
     "data": {
      "application/vnd.plotly.v1+json": {
       "config": {
        "plotlyServerURL": "https://plot.ly"
       },
       "data": [
        {
         "hovertemplate": "Peso=%{x}<br>Colesterol=%{y}<br>color=%{marker.color}<extra></extra>",
         "legendgroup": "",
         "marker": {
          "color": [
           0,
           0,
           0,
           2,
           2,
           1,
           0,
           2,
           1,
           1,
           0,
           1,
           0,
           2,
           2,
           1,
           0,
           1,
           2,
           2,
           2,
           0,
           1,
           2,
           0,
           1,
           0,
           1,
           1,
           2,
           1,
           2,
           2,
           0,
           1,
           0,
           1,
           0,
           2,
           1,
           1,
           2,
           0,
           1,
           1,
           2,
           1,
           2,
           2,
           0,
           0,
           1,
           1,
           2,
           0,
           1,
           2,
           1,
           2,
           2,
           0,
           2,
           0,
           2,
           2,
           0,
           2,
           1,
           2,
           0,
           2,
           2,
           2,
           1,
           0,
           0,
           1,
           0,
           0,
           0,
           0,
           1,
           2,
           0,
           0,
           2,
           2,
           0,
           0,
           2,
           1,
           0,
           0,
           0,
           2,
           0,
           2,
           0,
           0,
           2,
           0,
           0,
           1,
           1,
           0,
           2,
           0,
           1,
           2,
           1,
           0,
           0,
           1,
           0,
           0,
           0,
           2,
           2,
           1,
           0,
           2,
           1,
           1,
           0,
           1,
           0,
           2,
           2,
           1,
           0,
           1,
           2,
           2,
           2,
           0,
           1,
           2,
           0,
           1,
           0,
           1,
           1,
           2,
           1,
           2,
           0,
           1,
           0,
           1,
           0,
           2,
           1,
           1,
           2,
           0,
           1,
           1,
           2,
           1,
           2,
           2,
           0,
           0,
           1,
           1,
           2,
           0,
           1,
           1,
           1,
           2,
           2,
           0,
           2,
           0,
           1,
           2,
           2,
           0,
           1,
           1,
           2,
           0,
           2,
           2,
           2,
           1,
           0,
           0,
           1,
           0,
           2,
           0,
           1,
           2,
           0,
           0,
           2,
           2,
           0,
           0,
           2,
           1,
           0,
           0,
           0,
           2,
           2,
           2,
           0,
           0,
           1,
           0,
           0,
           1,
           1,
           0,
           2,
           0,
           1,
           2,
           1,
           2,
           0,
           1,
           0,
           0,
           0,
           2,
           2,
           1,
           0,
           2,
           1,
           1,
           0,
           1,
           0,
           2,
           2,
           1,
           0,
           1,
           2,
           2,
           2,
           0,
           1,
           2,
           0,
           1,
           0,
           1,
           1,
           2,
           1,
           2,
           2,
           0,
           1,
           0,
           1,
           0,
           2,
           1,
           1,
           2,
           0,
           1,
           1,
           2,
           1,
           2,
           2,
           0,
           0,
           1,
           1,
           2,
           0,
           1,
           1,
           1,
           2,
           2,
           0,
           2,
           0,
           1,
           2,
           2,
           0,
           1,
           1,
           2,
           0,
           2,
           2,
           2,
           1,
           0,
           2,
           1,
           0,
           2,
           0,
           0,
           1,
           2,
           0,
           0,
           2,
           2,
           0,
           0,
           2,
           1,
           0,
           0,
           0,
           2,
           2,
           2,
           0,
           0,
           2,
           1,
           0,
           0,
           1,
           1,
           0,
           2,
           0,
           1,
           2,
           1,
           0,
           0,
           1,
           0,
           0,
           0,
           2,
           2,
           1,
           0,
           2,
           1,
           1,
           0,
           1,
           0,
           2,
           2,
           1,
           0,
           1,
           2,
           2,
           2,
           0,
           1,
           2,
           0,
           1,
           0,
           1,
           1,
           2,
           1,
           2,
           2,
           0,
           1,
           0,
           1,
           0,
           2,
           1,
           1,
           2,
           0,
           1,
           1,
           2,
           1,
           2,
           2,
           0,
           0,
           1,
           1,
           2,
           0,
           1,
           1,
           1,
           2,
           2,
           0,
           2,
           0,
           1,
           2,
           2,
           0,
           1,
           1,
           2,
           0,
           2,
           2,
           2,
           1,
           0,
           2,
           1,
           0,
           2,
           0,
           0,
           1,
           2,
           0,
           0,
           2,
           2,
           2,
           0,
           2,
           1,
           0,
           0,
           0,
           2,
           2,
           2,
           0,
           0,
           2,
           1,
           0,
           0,
           1,
           1,
           0,
           2,
           0,
           1,
           2,
           1,
           0,
           0,
           1,
           0,
           0,
           0,
           2,
           2,
           1,
           0,
           2,
           1,
           1,
           0,
           1,
           0,
           2,
           2,
           1,
           0,
           1,
           2,
           2,
           2,
           0,
           1,
           2,
           0,
           1,
           0,
           1,
           1,
           2,
           1,
           2,
           2,
           0,
           1,
           0,
           1,
           0,
           2,
           1,
           1,
           2,
           0,
           1,
           1,
           2,
           1,
           2,
           2,
           0,
           0,
           1,
           1,
           2,
           0,
           1,
           1,
           1,
           2,
           2,
           0,
           2,
           0,
           1,
           2,
           2,
           0,
           1,
           1,
           2,
           0,
           2,
           2,
           2,
           1,
           0,
           2,
           1,
           0,
           0,
           0,
           0,
           1,
           2,
           0,
           0,
           2
          ],
          "coloraxis": "coloraxis",
          "symbol": "circle"
         },
         "mode": "markers",
         "name": "",
         "orientation": "v",
         "showlegend": false,
         "type": "scatter",
         "x": [
          102,
          115,
          115,
          140,
          130,
          198,
          114,
          145,
          191,
          186,
          104,
          188,
          96,
          156,
          125,
          178,
          109,
          168,
          152,
          133,
          153,
          107,
          199,
          140,
          95,
          183,
          108,
          190,
          174,
          149,
          169,
          138,
          151,
          109,
          178,
          106,
          195,
          96,
          129,
          166,
          197,
          148,
          117,
          193,
          170,
          130,
          183,
          134,
          128,
          105,
          115,
          166,
          183,
          149,
          110,
          164,
          157,
          170,
          124,
          145,
          113,
          150,
          100,
          139,
          150,
          101,
          157,
          187,
          137,
          121,
          132,
          130,
          156,
          180,
          100,
          122,
          185,
          113,
          123,
          119,
          113,
          168,
          126,
          102,
          116,
          144,
          140,
          124,
          108,
          154,
          185,
          106,
          97,
          96,
          129,
          124,
          149,
          97,
          102,
          146,
          100,
          118,
          179,
          179,
          113,
          142,
          101,
          174,
          131,
          179,
          122,
          105,
          176,
          103,
          120,
          118,
          143,
          134,
          203,
          116,
          150,
          192,
          187,
          107,
          192,
          97,
          157,
          128,
          183,
          112,
          173,
          156,
          137,
          156,
          112,
          203,
          141,
          97,
          186,
          113,
          195,
          175,
          154,
          173,
          152,
          114,
          181,
          111,
          200,
          100,
          134,
          167,
          198,
          151,
          121,
          196,
          171,
          135,
          186,
          138,
          133,
          107,
          120,
          168,
          184,
          154,
          115,
          168,
          161,
          171,
          129,
          150,
          118,
          154,
          103,
          180,
          141,
          152,
          104,
          159,
          191,
          142,
          123,
          135,
          132,
          158,
          181,
          105,
          126,
          186,
          116,
          124,
          115,
          173,
          128,
          103,
          120,
          146,
          145,
          125,
          109,
          156,
          187,
          110,
          100,
          97,
          133,
          128,
          154,
          100,
          104,
          203,
          104,
          119,
          181,
          180,
          116,
          144,
          102,
          176,
          135,
          184,
          124,
          110,
          180,
          103,
          117,
          120,
          145,
          133,
          201,
          117,
          146,
          195,
          188,
          108,
          191,
          100,
          158,
          127,
          181,
          113,
          171,
          153,
          137,
          154,
          112,
          201,
          141,
          100,
          185,
          111,
          191,
          176,
          150,
          171,
          140,
          153,
          111,
          180,
          107,
          197,
          101,
          132,
          168,
          200,
          150,
          119,
          197,
          172,
          134,
          185,
          135,
          132,
          109,
          116,
          170,
          187,
          154,
          111,
          169,
          161,
          174,
          125,
          148,
          117,
          154,
          104,
          183,
          142,
          155,
          105,
          160,
          191,
          140,
          123,
          136,
          132,
          158,
          182,
          104,
          126,
          188,
          118,
          127,
          123,
          118,
          169,
          128,
          106,
          119,
          147,
          141,
          125,
          109,
          158,
          190,
          110,
          99,
          98,
          134,
          129,
          154,
          100,
          107,
          149,
          203,
          101,
          119,
          182,
          181,
          115,
          145,
          102,
          176,
          134,
          183,
          123,
          108,
          177,
          104,
          117,
          117,
          145,
          134,
          199,
          115,
          149,
          192,
          188,
          107,
          190,
          98,
          158,
          128,
          180,
          110,
          172,
          157,
          137,
          158,
          110,
          203,
          145,
          96,
          186,
          110,
          194,
          177,
          152,
          172,
          140,
          154,
          113,
          179,
          111,
          196,
          101,
          131,
          171,
          199,
          151,
          121,
          196,
          174,
          135,
          184,
          137,
          129,
          108,
          116,
          168,
          184,
          151,
          114,
          167,
          160,
          175,
          127,
          146,
          118,
          151,
          105,
          180,
          140,
          155,
          106,
          160,
          192,
          138,
          122,
          135,
          132,
          158,
          184,
          101,
          126,
          188,
          118,
          127,
          123,
          117,
          172,
          127,
          104,
          121,
          148,
          141,
          128,
          113,
          155,
          189,
          108,
          98,
          100,
          134,
          125,
          151,
          100,
          107,
          147,
          200,
          101,
          120,
          181,
          182,
          117,
          145,
          106,
          179,
          134,
          180,
          126,
          110,
          180,
          103,
          116,
          119,
          144,
          133,
          199,
          115,
          150,
          192,
          188,
          109,
          189,
          101,
          159,
          128,
          182,
          111,
          171,
          154,
          134,
          157,
          112,
          203,
          142,
          97,
          187,
          111,
          194,
          176,
          153,
          171,
          142,
          153,
          113,
          183,
          108,
          200,
          99,
          131,
          171,
          200,
          152,
          119,
          196,
          173,
          132,
          185,
          138,
          132,
          110,
          119,
          167,
          188,
          151,
          112,
          166,
          158,
          172,
          127,
          150,
          115,
          151,
          103,
          181,
          141,
          152,
          105,
          162,
          190,
          141,
          122,
          136,
          131,
          157,
          181,
          103,
          127,
          189,
          114,
          125,
          123,
          116,
          172,
          129,
          107,
          117,
          148
         ],
         "xaxis": "x",
         "y": [
          111,
          135,
          136,
          167,
          158,
          227,
          131,
          176,
          223,
          221,
          116,
          222,
          102,
          192,
          152,
          213,
          125,
          204,
          189,
          163,
          189,
          122,
          228,
          168,
          102,
          218,
          123,
          222,
          208,
          183,
          204,
          167,
          188,
          126,
          213,
          122,
          225,
          105,
          155,
          203,
          225,
          177,
          139,
          224,
          207,
          158,
          218,
          164,
          154,
          118,
          138,
          199,
          219,
          183,
          128,
          197,
          196,
          208,
          152,
          175,
          129,
          185,
          107,
          167,
          185,
          110,
          194,
          221,
          166,
          143,
          163,
          158,
          191,
          216,
          106,
          146,
          220,
          131,
          147,
          141,
          130,
          204,
          152,
          111,
          139,
          172,
          168,
          148,
          123,
          189,
          220,
          120,
          106,
          105,
          157,
          149,
          185,
          106,
          115,
          177,
          108,
          140,
          214,
          216,
          130,
          169,
          110,
          209,
          162,
          214,
          145,
          116,
          209,
          116,
          139,
          143,
          168,
          158,
          232,
          136,
          180,
          228,
          222,
          117,
          224,
          104,
          195,
          156,
          213,
          133,
          208,
          195,
          163,
          195,
          124,
          231,
          172,
          104,
          221,
          128,
          222,
          214,
          184,
          204,
          195,
          132,
          214,
          123,
          233,
          107,
          162,
          204,
          227,
          185,
          142,
          225,
          212,
          161,
          220,
          168,
          155,
          125,
          144,
          201,
          222,
          189,
          132,
          204,
          201,
          211,
          156,
          179,
          129,
          185,
          107,
          213,
          172,
          193,
          114,
          202,
          222,
          168,
          146,
          170,
          165,
          196,
          224,
          108,
          149,
          224,
          136,
          152,
          135,
          211,
          156,
          115,
          143,
          179,
          173,
          148,
          127,
          194,
          225,
          127,
          106,
          112,
          164,
          151,
          191,
          110,
          116,
          235,
          108,
          141,
          219,
          219,
          138,
          169,
          116,
          212,
          162,
          220,
          151,
          119,
          212,
          111,
          142,
          138,
          172,
          158,
          228,
          134,
          181,
          231,
          223,
          121,
          222,
          102,
          195,
          156,
          214,
          132,
          204,
          190,
          167,
          195,
          127,
          235,
          171,
          110,
          221,
          128,
          226,
          208,
          191,
          205,
          173,
          191,
          128,
          220,
          126,
          232,
          108,
          159,
          211,
          232,
          182,
          145,
          224,
          209,
          160,
          219,
          170,
          161,
          122,
          141,
          204,
          226,
          187,
          129,
          199,
          199,
          214,
          159,
          176,
          129,
          187,
          109,
          212,
          170,
          191,
          116,
          202,
          226,
          166,
          151,
          170,
          166,
          193,
          218,
          109,
          152,
          220,
          133,
          152,
          142,
          131,
          204,
          153,
          114,
          144,
          172,
          176,
          150,
          129,
          190,
          226,
          128,
          106,
          107,
          159,
          157,
          192,
          110,
          115,
          183,
          233,
          112,
          146,
          222,
          216,
          134,
          174,
          114,
          211,
          167,
          214,
          145,
          120,
          217,
          113,
          141,
          140,
          171,
          163,
          232,
          131,
          184,
          225,
          223,
          121,
          223,
          105,
          197,
          160,
          218,
          131,
          211,
          194,
          169,
          189,
          128,
          228,
          169,
          108,
          219,
          124,
          224,
          214,
          190,
          205,
          167,
          190,
          128,
          217,
          126,
          228,
          105,
          162,
          211,
          227,
          178,
          146,
          227,
          208,
          163,
          225,
          167,
          162,
          125,
          144,
          199,
          226,
          183,
          136,
          199,
          204,
          215,
          155,
          179,
          133,
          186,
          111,
          219,
          173,
          185,
          118,
          199,
          226,
          169,
          144,
          166,
          166,
          198,
          222,
          110,
          154,
          226,
          135,
          151,
          146,
          133,
          205,
          154,
          116,
          145,
          174,
          168,
          156,
          124,
          196,
          227,
          122,
          106,
          110,
          158,
          154,
          190,
          110,
          120,
          180,
          232,
          110,
          142,
          222,
          218,
          138,
          176,
          115,
          211,
          168,
          216,
          147,
          124,
          215,
          117,
          139,
          138,
          171,
          158,
          232,
          139,
          178,
          224,
          224,
          116,
          223,
          109,
          193,
          155,
          221,
          130,
          212,
          190,
          169,
          191,
          122,
          234,
          175,
          108,
          220,
          126,
          227,
          216,
          188,
          205,
          172,
          192,
          129,
          219,
          127,
          228,
          105,
          159,
          205,
          228,
          178,
          139,
          232,
          212,
          162,
          226,
          171,
          159,
          120,
          143,
          200,
          221,
          184,
          134,
          200,
          201,
          210,
          159,
          178,
          137,
          190,
          110,
          213,
          170,
          193,
          113,
          196,
          222,
          174,
          143,
          169,
          165,
          194,
          217,
          113,
          150,
          223,
          133,
          149,
          149,
          130,
          207,
          157,
          115,
          147,
          176
         ],
         "yaxis": "y"
        },
        {
         "marker": {
          "color": "red",
          "line": {
           "color": "black",
           "width": 2
          },
          "size": 14,
          "symbol": "x"
         },
         "mode": "markers",
         "name": "Centróides",
         "type": "scatter",
         "x": [
          110.32804232804227,
          182.189349112426,
          141.8641304347826
         ],
         "y": [
          125.75661375661366,
          216.9999999999999,
          173.10326086956522
         ]
        }
       ],
       "layout": {
        "legend": {
         "title": {
          "text": "Cluster"
         }
        },
        "template": {
         "data": {
          "bar": [
           {
            "error_x": {
             "color": "#2a3f5f"
            },
            "error_y": {
             "color": "#2a3f5f"
            },
            "marker": {
             "line": {
              "color": "#E5ECF6",
              "width": 0.5
             },
             "pattern": {
              "fillmode": "overlay",
              "size": 10,
              "solidity": 0.2
             }
            },
            "type": "bar"
           }
          ],
          "barpolar": [
           {
            "marker": {
             "line": {
              "color": "#E5ECF6",
              "width": 0.5
             },
             "pattern": {
              "fillmode": "overlay",
              "size": 10,
              "solidity": 0.2
             }
            },
            "type": "barpolar"
           }
          ],
          "carpet": [
           {
            "aaxis": {
             "endlinecolor": "#2a3f5f",
             "gridcolor": "white",
             "linecolor": "white",
             "minorgridcolor": "white",
             "startlinecolor": "#2a3f5f"
            },
            "baxis": {
             "endlinecolor": "#2a3f5f",
             "gridcolor": "white",
             "linecolor": "white",
             "minorgridcolor": "white",
             "startlinecolor": "#2a3f5f"
            },
            "type": "carpet"
           }
          ],
          "choropleth": [
           {
            "colorbar": {
             "outlinewidth": 0,
             "ticks": ""
            },
            "type": "choropleth"
           }
          ],
          "contour": [
           {
            "colorbar": {
             "outlinewidth": 0,
             "ticks": ""
            },
            "colorscale": [
             [
              0,
              "#0d0887"
             ],
             [
              0.1111111111111111,
              "#46039f"
             ],
             [
              0.2222222222222222,
              "#7201a8"
             ],
             [
              0.3333333333333333,
              "#9c179e"
             ],
             [
              0.4444444444444444,
              "#bd3786"
             ],
             [
              0.5555555555555556,
              "#d8576b"
             ],
             [
              0.6666666666666666,
              "#ed7953"
             ],
             [
              0.7777777777777778,
              "#fb9f3a"
             ],
             [
              0.8888888888888888,
              "#fdca26"
             ],
             [
              1,
              "#f0f921"
             ]
            ],
            "type": "contour"
           }
          ],
          "contourcarpet": [
           {
            "colorbar": {
             "outlinewidth": 0,
             "ticks": ""
            },
            "type": "contourcarpet"
           }
          ],
          "heatmap": [
           {
            "colorbar": {
             "outlinewidth": 0,
             "ticks": ""
            },
            "colorscale": [
             [
              0,
              "#0d0887"
             ],
             [
              0.1111111111111111,
              "#46039f"
             ],
             [
              0.2222222222222222,
              "#7201a8"
             ],
             [
              0.3333333333333333,
              "#9c179e"
             ],
             [
              0.4444444444444444,
              "#bd3786"
             ],
             [
              0.5555555555555556,
              "#d8576b"
             ],
             [
              0.6666666666666666,
              "#ed7953"
             ],
             [
              0.7777777777777778,
              "#fb9f3a"
             ],
             [
              0.8888888888888888,
              "#fdca26"
             ],
             [
              1,
              "#f0f921"
             ]
            ],
            "type": "heatmap"
           }
          ],
          "heatmapgl": [
           {
            "colorbar": {
             "outlinewidth": 0,
             "ticks": ""
            },
            "colorscale": [
             [
              0,
              "#0d0887"
             ],
             [
              0.1111111111111111,
              "#46039f"
             ],
             [
              0.2222222222222222,
              "#7201a8"
             ],
             [
              0.3333333333333333,
              "#9c179e"
             ],
             [
              0.4444444444444444,
              "#bd3786"
             ],
             [
              0.5555555555555556,
              "#d8576b"
             ],
             [
              0.6666666666666666,
              "#ed7953"
             ],
             [
              0.7777777777777778,
              "#fb9f3a"
             ],
             [
              0.8888888888888888,
              "#fdca26"
             ],
             [
              1,
              "#f0f921"
             ]
            ],
            "type": "heatmapgl"
           }
          ],
          "histogram": [
           {
            "marker": {
             "pattern": {
              "fillmode": "overlay",
              "size": 10,
              "solidity": 0.2
             }
            },
            "type": "histogram"
           }
          ],
          "histogram2d": [
           {
            "colorbar": {
             "outlinewidth": 0,
             "ticks": ""
            },
            "colorscale": [
             [
              0,
              "#0d0887"
             ],
             [
              0.1111111111111111,
              "#46039f"
             ],
             [
              0.2222222222222222,
              "#7201a8"
             ],
             [
              0.3333333333333333,
              "#9c179e"
             ],
             [
              0.4444444444444444,
              "#bd3786"
             ],
             [
              0.5555555555555556,
              "#d8576b"
             ],
             [
              0.6666666666666666,
              "#ed7953"
             ],
             [
              0.7777777777777778,
              "#fb9f3a"
             ],
             [
              0.8888888888888888,
              "#fdca26"
             ],
             [
              1,
              "#f0f921"
             ]
            ],
            "type": "histogram2d"
           }
          ],
          "histogram2dcontour": [
           {
            "colorbar": {
             "outlinewidth": 0,
             "ticks": ""
            },
            "colorscale": [
             [
              0,
              "#0d0887"
             ],
             [
              0.1111111111111111,
              "#46039f"
             ],
             [
              0.2222222222222222,
              "#7201a8"
             ],
             [
              0.3333333333333333,
              "#9c179e"
             ],
             [
              0.4444444444444444,
              "#bd3786"
             ],
             [
              0.5555555555555556,
              "#d8576b"
             ],
             [
              0.6666666666666666,
              "#ed7953"
             ],
             [
              0.7777777777777778,
              "#fb9f3a"
             ],
             [
              0.8888888888888888,
              "#fdca26"
             ],
             [
              1,
              "#f0f921"
             ]
            ],
            "type": "histogram2dcontour"
           }
          ],
          "mesh3d": [
           {
            "colorbar": {
             "outlinewidth": 0,
             "ticks": ""
            },
            "type": "mesh3d"
           }
          ],
          "parcoords": [
           {
            "line": {
             "colorbar": {
              "outlinewidth": 0,
              "ticks": ""
             }
            },
            "type": "parcoords"
           }
          ],
          "pie": [
           {
            "automargin": true,
            "type": "pie"
           }
          ],
          "scatter": [
           {
            "fillpattern": {
             "fillmode": "overlay",
             "size": 10,
             "solidity": 0.2
            },
            "type": "scatter"
           }
          ],
          "scatter3d": [
           {
            "line": {
             "colorbar": {
              "outlinewidth": 0,
              "ticks": ""
             }
            },
            "marker": {
             "colorbar": {
              "outlinewidth": 0,
              "ticks": ""
             }
            },
            "type": "scatter3d"
           }
          ],
          "scattercarpet": [
           {
            "marker": {
             "colorbar": {
              "outlinewidth": 0,
              "ticks": ""
             }
            },
            "type": "scattercarpet"
           }
          ],
          "scattergeo": [
           {
            "marker": {
             "colorbar": {
              "outlinewidth": 0,
              "ticks": ""
             }
            },
            "type": "scattergeo"
           }
          ],
          "scattergl": [
           {
            "marker": {
             "colorbar": {
              "outlinewidth": 0,
              "ticks": ""
             }
            },
            "type": "scattergl"
           }
          ],
          "scattermapbox": [
           {
            "marker": {
             "colorbar": {
              "outlinewidth": 0,
              "ticks": ""
             }
            },
            "type": "scattermapbox"
           }
          ],
          "scatterpolar": [
           {
            "marker": {
             "colorbar": {
              "outlinewidth": 0,
              "ticks": ""
             }
            },
            "type": "scatterpolar"
           }
          ],
          "scatterpolargl": [
           {
            "marker": {
             "colorbar": {
              "outlinewidth": 0,
              "ticks": ""
             }
            },
            "type": "scatterpolargl"
           }
          ],
          "scatterternary": [
           {
            "marker": {
             "colorbar": {
              "outlinewidth": 0,
              "ticks": ""
             }
            },
            "type": "scatterternary"
           }
          ],
          "surface": [
           {
            "colorbar": {
             "outlinewidth": 0,
             "ticks": ""
            },
            "colorscale": [
             [
              0,
              "#0d0887"
             ],
             [
              0.1111111111111111,
              "#46039f"
             ],
             [
              0.2222222222222222,
              "#7201a8"
             ],
             [
              0.3333333333333333,
              "#9c179e"
             ],
             [
              0.4444444444444444,
              "#bd3786"
             ],
             [
              0.5555555555555556,
              "#d8576b"
             ],
             [
              0.6666666666666666,
              "#ed7953"
             ],
             [
              0.7777777777777778,
              "#fb9f3a"
             ],
             [
              0.8888888888888888,
              "#fdca26"
             ],
             [
              1,
              "#f0f921"
             ]
            ],
            "type": "surface"
           }
          ],
          "table": [
           {
            "cells": {
             "fill": {
              "color": "#EBF0F8"
             },
             "line": {
              "color": "white"
             }
            },
            "header": {
             "fill": {
              "color": "#C8D4E3"
             },
             "line": {
              "color": "white"
             }
            },
            "type": "table"
           }
          ]
         },
         "layout": {
          "annotationdefaults": {
           "arrowcolor": "#2a3f5f",
           "arrowhead": 0,
           "arrowwidth": 1
          },
          "autotypenumbers": "strict",
          "coloraxis": {
           "colorbar": {
            "outlinewidth": 0,
            "ticks": ""
           }
          },
          "colorscale": {
           "diverging": [
            [
             0,
             "#8e0152"
            ],
            [
             0.1,
             "#c51b7d"
            ],
            [
             0.2,
             "#de77ae"
            ],
            [
             0.3,
             "#f1b6da"
            ],
            [
             0.4,
             "#fde0ef"
            ],
            [
             0.5,
             "#f7f7f7"
            ],
            [
             0.6,
             "#e6f5d0"
            ],
            [
             0.7,
             "#b8e186"
            ],
            [
             0.8,
             "#7fbc41"
            ],
            [
             0.9,
             "#4d9221"
            ],
            [
             1,
             "#276419"
            ]
           ],
           "sequential": [
            [
             0,
             "#0d0887"
            ],
            [
             0.1111111111111111,
             "#46039f"
            ],
            [
             0.2222222222222222,
             "#7201a8"
            ],
            [
             0.3333333333333333,
             "#9c179e"
            ],
            [
             0.4444444444444444,
             "#bd3786"
            ],
            [
             0.5555555555555556,
             "#d8576b"
            ],
            [
             0.6666666666666666,
             "#ed7953"
            ],
            [
             0.7777777777777778,
             "#fb9f3a"
            ],
            [
             0.8888888888888888,
             "#fdca26"
            ],
            [
             1,
             "#f0f921"
            ]
           ],
           "sequentialminus": [
            [
             0,
             "#0d0887"
            ],
            [
             0.1111111111111111,
             "#46039f"
            ],
            [
             0.2222222222222222,
             "#7201a8"
            ],
            [
             0.3333333333333333,
             "#9c179e"
            ],
            [
             0.4444444444444444,
             "#bd3786"
            ],
            [
             0.5555555555555556,
             "#d8576b"
            ],
            [
             0.6666666666666666,
             "#ed7953"
            ],
            [
             0.7777777777777778,
             "#fb9f3a"
            ],
            [
             0.8888888888888888,
             "#fdca26"
            ],
            [
             1,
             "#f0f921"
            ]
           ]
          },
          "colorway": [
           "#636efa",
           "#EF553B",
           "#00cc96",
           "#ab63fa",
           "#FFA15A",
           "#19d3f3",
           "#FF6692",
           "#B6E880",
           "#FF97FF",
           "#FECB52"
          ],
          "font": {
           "color": "#2a3f5f"
          },
          "geo": {
           "bgcolor": "white",
           "lakecolor": "white",
           "landcolor": "#E5ECF6",
           "showlakes": true,
           "showland": true,
           "subunitcolor": "white"
          },
          "hoverlabel": {
           "align": "left"
          },
          "hovermode": "closest",
          "mapbox": {
           "style": "light"
          },
          "paper_bgcolor": "white",
          "plot_bgcolor": "#E5ECF6",
          "polar": {
           "angularaxis": {
            "gridcolor": "white",
            "linecolor": "white",
            "ticks": ""
           },
           "bgcolor": "#E5ECF6",
           "radialaxis": {
            "gridcolor": "white",
            "linecolor": "white",
            "ticks": ""
           }
          },
          "scene": {
           "xaxis": {
            "backgroundcolor": "#E5ECF6",
            "gridcolor": "white",
            "gridwidth": 2,
            "linecolor": "white",
            "showbackground": true,
            "ticks": "",
            "zerolinecolor": "white"
           },
           "yaxis": {
            "backgroundcolor": "#E5ECF6",
            "gridcolor": "white",
            "gridwidth": 2,
            "linecolor": "white",
            "showbackground": true,
            "ticks": "",
            "zerolinecolor": "white"
           },
           "zaxis": {
            "backgroundcolor": "#E5ECF6",
            "gridcolor": "white",
            "gridwidth": 2,
            "linecolor": "white",
            "showbackground": true,
            "ticks": "",
            "zerolinecolor": "white"
           }
          },
          "shapedefaults": {
           "line": {
            "color": "#2a3f5f"
           }
          },
          "ternary": {
           "aaxis": {
            "gridcolor": "white",
            "linecolor": "white",
            "ticks": ""
           },
           "baxis": {
            "gridcolor": "white",
            "linecolor": "white",
            "ticks": ""
           },
           "bgcolor": "#E5ECF6",
           "caxis": {
            "gridcolor": "white",
            "linecolor": "white",
            "ticks": ""
           }
          },
          "title": {
           "x": 0.05
          },
          "xaxis": {
           "automargin": true,
           "gridcolor": "white",
           "linecolor": "white",
           "ticks": "",
           "title": {
            "standoff": 15
           },
           "zerolinecolor": "white",
           "zerolinewidth": 2
          },
          "yaxis": {
           "automargin": true,
           "gridcolor": "white",
           "linecolor": "white",
           "ticks": "",
           "title": {
            "standoff": 15
           },
           "zerolinecolor": "white",
           "zerolinewidth": 2
          }
         }
        },
        "title": {
         "text": "Clusters de Clientes com Base no Peso e Colesterol"
        },
        "xaxis": {
         "title": {
          "text": "Peso"
         }
        },
        "yaxis": {
         "title": {
          "text": "Colesterol"
         }
        }
       }
      }
     },
     "metadata": {},
     "output_type": "display_data"
    }
   ],
   "source": [
    "# Gráfico de dispersão para os pontos dos clusters\n",
    "grafico = px.scatter(\n",
    "    x=base_completa['peso'],\n",
    "    y=base_completa['colesterol'],\n",
    "    color=base_completa['cluster'],\n",
    "    labels={'x': 'Peso', 'y': 'Colesterol'},\n",
    "    title='Clusters de Clientes com Base no Peso e Colesterol'\n",
    ")\n",
    "\n",
    "# Gráfico de dispersão para os centróides\n",
    "grafico_centroide = go.Scatter(\n",
    "    x=centroides[:, 0],\n",
    "    y=centroides[:, 1],\n",
    "    mode='markers',\n",
    "    marker=dict(\n",
    "        size=14,\n",
    "        color='red',\n",
    "        symbol='x',\n",
    "        line=dict(width=2, color='black')\n",
    "    ),\n",
    "    name='Centróides'\n",
    ")\n",
    "\n",
    "# Combina os dois gráficos\n",
    "grafico_final_petala = go.Figure(\n",
    "    data=list(grafico.data) + [grafico_centroide]\n",
    ")\n",
    "\n",
    "# Personalizações adicionais\n",
    "grafico_final_petala.update_layout(\n",
    "    xaxis_title='Peso',\n",
    "    yaxis_title='Colesterol',\n",
    "    title='Clusters de Clientes com Base no Peso e Colesterol',\n",
    "    legend_title='Cluster'\n",
    ")\n",
    "\n",
    "# Exibe o gráfico\n",
    "grafico_final_petala.show()\n"
   ]
  },
  {
   "cell_type": "code",
   "execution_count": 65,
   "metadata": {},
   "outputs": [
    {
     "name": "stdout",
     "output_type": "stream",
     "text": [
      "    peso  colesterol  cluster           risco\n",
      "0  102.0         111        0     Baixo risco\n",
      "1  115.0         135        0     Baixo risco\n",
      "2  115.0         136        0     Baixo risco\n",
      "3  140.0         167        2  Risco moderado\n",
      "4  130.0         158        2  Risco moderado\n"
     ]
    }
   ],
   "source": [
    "# Ordenando os clusters com base nos centroides (peso + colesterol)\n",
    "indices_ordenados = np.argsort(np.sum(centroides, axis=1))\n",
    "\n",
    "# Mapeando os clusters para os grupos de risco\n",
    "mapa_risco = {\n",
    "    indices_ordenados[0]: 'Baixo risco',\n",
    "    indices_ordenados[1]: 'Risco moderado',\n",
    "    indices_ordenados[2]: 'Alto risco'\n",
    "}\n",
    "\n",
    "# Adicionando a coluna de risco ao Dataframe\n",
    "base_completa['risco'] = base_completa['cluster'].map(mapa_risco)\n",
    "\n",
    "# Exibindo o Dataframe com a segmentação\n",
    "print(base_completa[['peso', 'colesterol', 'cluster', 'risco']].head())"
   ]
  },
  {
   "cell_type": "markdown",
   "metadata": {},
   "source": [
    "Após concluir a clusterização dos dados, responda: em qual cluster se encontra o maior número de indivíduos?"
   ]
  },
  {
   "cell_type": "code",
   "execution_count": null,
   "metadata": {},
   "outputs": [],
   "source": []
  },
  {
   "cell_type": "markdown",
   "metadata": {},
   "source": [
    "Após concluir a clusterização dos dados, responda: qual é a média do peso para os pacientes do risco alto?"
   ]
  },
  {
   "cell_type": "code",
   "execution_count": null,
   "metadata": {},
   "outputs": [],
   "source": []
  },
  {
   "cell_type": "markdown",
   "metadata": {},
   "source": [
    "Após concluir a clusterização dos dados, responda: qual é o grupo que possui a menor média de idade?"
   ]
  },
  {
   "cell_type": "code",
   "execution_count": null,
   "metadata": {},
   "outputs": [],
   "source": []
  },
  {
   "cell_type": "markdown",
   "metadata": {},
   "source": [
    "Após concluir a clusterização dos dados, responda: qual é o grupo que possui a menor média de salário?"
   ]
  },
  {
   "cell_type": "code",
   "execution_count": null,
   "metadata": {},
   "outputs": [],
   "source": []
  }
 ],
 "metadata": {
  "kernelspec": {
   "display_name": "venvtpm01",
   "language": "python",
   "name": "python3"
  },
  "language_info": {
   "codemirror_mode": {
    "name": "ipython",
    "version": 3
   },
   "file_extension": ".py",
   "mimetype": "text/x-python",
   "name": "python",
   "nbconvert_exporter": "python",
   "pygments_lexer": "ipython3",
   "version": "3.10.11"
  }
 },
 "nbformat": 4,
 "nbformat_minor": 2
}
